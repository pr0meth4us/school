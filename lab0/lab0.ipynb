{
 "cells": [
  {
   "cell_type": "code",
   "execution_count": 1,
   "metadata": {},
   "outputs": [
    {
     "name": "stdout",
     "output_type": "stream",
     "text": [
      "1\n",
      "8\n",
      "4\n",
      "1\n",
      "3\n"
     ]
    }
   ],
   "source": [
    "import random\n",
    "sir = []\n",
    "for i in range(0,5):\n",
    "    print(random.randint(0, 10))\n"
   ]
  },
  {
   "cell_type": "markdown",
   "metadata": {},
   "source": []
  },
  {
   "cell_type": "code",
   "execution_count": null,
   "metadata": {},
   "outputs": [],
   "source": [
    "print(64+32)"
   ]
  },
  {
   "cell_type": "code",
   "execution_count": 3,
   "metadata": {},
   "outputs": [
    {
     "name": "stdout",
     "output_type": "stream",
     "text": [
      "96\n"
     ]
    }
   ],
   "source": [
    "x = 64\n",
    "y = 32\n",
    "summation =x+y\n",
    "print(summation)"
   ]
  },
  {
   "cell_type": "code",
   "execution_count": 4,
   "metadata": {},
   "outputs": [
    {
     "name": "stdout",
     "output_type": "stream",
     "text": [
      "Mathew MacCoughney\n"
     ]
    }
   ],
   "source": [
    "print('Mathew MacCoughney')"
   ]
  },
  {
   "cell_type": "code",
   "execution_count": 5,
   "metadata": {},
   "outputs": [
    {
     "name": "stdout",
     "output_type": "stream",
     "text": [
      "lucky\n"
     ]
    }
   ],
   "source": [
    "s = 'lucky'\n",
    "print(s)"
   ]
  },
  {
   "cell_type": "code",
   "execution_count": 6,
   "metadata": {},
   "outputs": [
    {
     "name": "stdout",
     "output_type": "stream",
     "text": [
      "Today is 2/2/2016\n"
     ]
    }
   ],
   "source": [
    "day = 2\n",
    "month = 2\n",
    "year = 2016\n",
    "print(f\"Today is {day}/{month}/{year}\")"
   ]
  },
  {
   "cell_type": "code",
   "execution_count": 13,
   "metadata": {},
   "outputs": [
    {
     "name": "stdout",
     "output_type": "stream",
     "text": [
      "Robby Barbie\n",
      "buzz\n"
     ]
    }
   ],
   "source": [
    "S = \"Robert Oppenheimer\"\n",
    "S = S.replace(\"Robert\", \"Robby\")\n",
    "S = S.replace(\"Oppenheimer\", \"Barbie\" )\n",
    "print(S)\n",
    "\n",
    "w = \"risk\"\n",
    "w = w.replace(w,\"rizz\")\n",
    "print(w)\n"
   ]
  },
  {
   "cell_type": "code",
   "execution_count": 1,
   "metadata": {},
   "outputs": [
    {
     "name": "stdout",
     "output_type": "stream",
     "text": [
      "7\n",
      "A nuclear weapon[a] is an explosive device that derives its destructive force from nuclear reactions, either fission (fission bomb) or a combination of fission and fusion reactions (thermonuclear bomb), producing a nuclear explosion. Both bomb types release large quantities of energy from relatively small amounts of matter.\n",
      "\n",
      "The first test of a fission (\"atomic\") bomb released an amount of energy approximately equal to 20,000 tons of TNT (84 TJ).[1] The first thermonuclear (\"hydrogen\") bomb test released energy approximately equal to 10 million tons of TNT (42 PJ). Nuclear bombs have had yields between 10 tons TNT (the W54) and 50 megatons for the Tsar Bomba (see TNT equivalent). A thermonuclear weapon weighing as little as 600 pounds (270 kg) can release energy equal to more than 1.2 megatonnes of TNT (5.0 PJ).[2]\n",
      "\n",
      "A nuclear device no larger than a conventional bomb can devastate an entire city by blast, fire, and radiation. Since they are weapons of mass destruction, the proliferation of nuclear weapons is a focus of international relations policy. Nuclear weapons have been deployed twice in war, by the United States against the Japanese cities of Hiroshima and Nagasaki in 1945 during World War II. \n"
     ]
    }
   ],
   "source": [
    "s = \"Robert robert robert\"\n",
    "s = s.find(\"robert\")\n",
    "print(s)\n",
    "\n",
    "article = \"\"\"A nuclear weapon[a] is an explosive device that derives its destructive force from nuclear reactions, either fission (fission bomb) or a combination of fission and fusion reactions (thermonuclear bomb), producing a nuclear explosion. Both bomb types release large quantities of energy from relatively small amounts of matter.\n",
    "\n",
    "The first test of a fission (\"atomic\") bomb released an amount of energy approximately equal to 20,000 tons of TNT (84 TJ).[1] The first thermonuclear (\"hydrogen\") bomb test released energy approximately equal to 10 million tons of TNT (42 PJ). Nuclear bombs have had yields between 10 tons TNT (the W54) and 50 megatons for the Tsar Bomba (see TNT equivalent). A thermonuclear weapon weighing as little as 600 pounds (270 kg) can release energy equal to more than 1.2 megatonnes of TNT (5.0 PJ).[2]\n",
    "\n",
    "A nuclear device no larger than a conventional bomb can devastate an entire city by blast, fire, and radiation. Since they are weapons of mass destruction, the proliferation of nuclear weapons is a focus of international relations policy. Nuclear weapons have been deployed twice in war, by the United States against the Japanese cities of Hiroshima and Nagasaki in 1945 during World War II. \"\"\"\n",
    "\n",
    "print(article)\n",
    "userinput = input(\"enter a word to test the find functions: \")\n",
    "\n",
    "print(article.find(userinput))\n"
   ]
  },
  {
   "cell_type": "markdown",
   "metadata": {},
   "source": [
    "String Join"
   ]
  },
  {
   "cell_type": "code",
   "execution_count": 2,
   "metadata": {},
   "outputs": [
    {
     "name": "stdout",
     "output_type": "stream",
     "text": [
      "You are the man who gave them the power to destroy themselves and the world is not prepared\n",
      "You_are_the_man_who_gave_them_the_power_to_destroy_themselves_and_the_world_is_not_prepared\n"
     ]
    }
   ],
   "source": [
    "words = ['You', 'are', 'the', 'man', 'who', 'gave', 'them', 'the', 'power', 'to', 'destroy', 'themselves', 'and', 'the', 'world', 'is', 'not', 'prepared']\n",
    "joinSpace = ' '.join(words)\n",
    "print(joinSpace)\n",
    "joinUnderscore = '_'.join(words)\n",
    "print(joinUnderscore)"
   ]
  },
  {
   "cell_type": "markdown",
   "metadata": {},
   "source": [
    "String Split"
   ]
  },
  {
   "cell_type": "code",
   "execution_count": 6,
   "metadata": {},
   "outputs": [
    {
     "name": "stdout",
     "output_type": "stream",
     "text": [
      "['World', 'Earth', 'America', 'Canada']\n",
      "['Let me first say', ' The man’s morals are appalling', ' Tate takes ideas way too far', ' All because he knows his target audience is super emotional', ' They bleed with vulnerability', ' Hurt people are brutal, anger steers ugly words and even uglier actions', ' Tate took advantage', '\\n\\nWhat I will focus on is his marketing and educational content', ' I hope you can do the same', ' I never watched a video of him speaking ever', ' Well, until today', ' This past week, I’ve been binge-watching marketing videos', ' You know how algorithms work', '']\n"
     ]
    }
   ],
   "source": [
    "string ='World,Earth,America,Canada'\n",
    "print(string.split(','))\n",
    "\n",
    "article = '''Let me first say. The man’s morals are appalling. Tate takes ideas way too far. All because he knows his target audience is super emotional. They bleed with vulnerability. Hurt people are brutal, anger steers ugly words and even uglier actions. Tate took advantage.\n",
    "\n",
    "What I will focus on is his marketing and educational content. I hope you can do the same. I never watched a video of him speaking ever. Well, until today. This past week, I’ve been binge-watching marketing videos. You know how algorithms work.'''\n",
    "\n",
    "phrase = article.split('.')\n",
    "print(phrase)"
   ]
  },
  {
   "cell_type": "markdown",
   "metadata": {},
   "source": [
    "Random Number"
   ]
  },
  {
   "cell_type": "code",
   "execution_count": null,
   "metadata": {},
   "outputs": [
    {
     "name": "stdout",
     "output_type": "stream",
     "text": [
      "Occurances of 0 is 1 times\n",
      "Occurances of 1 is 2 times\n",
      "Occurances of 2 is 4 times\n",
      "Occurances of 3 is 3 times\n",
      "Occurances of 4 is 0 times\n",
      "Occurances of 5 is 0 times\n",
      "Occurances of 6 is 0 times\n",
      "Occurances of 7 is 1 times\n",
      "Occurances of 8 is 0 times\n",
      "Occurances of 9 is 1 times\n",
      "Occurances of 10 is 0 times\n",
      "Occurances of 11 is 0 times\n",
      "Occurances of 12 is 2 times\n",
      "Occurances of 13 is 0 times\n",
      "Occurances of 14 is 0 times\n",
      "Occurances of 15 is 0 times\n",
      "Occurances of 16 is 2 times\n",
      "Occurances of 17 is 1 times\n",
      "Occurances of 18 is 1 times\n",
      "Occurances of 19 is 1 times\n",
      "Occurances of 20 is 0 times\n",
      "Occurances of 21 is 0 times\n",
      "Occurances of 22 is 0 times\n",
      "Occurances of 23 is 2 times\n",
      "Occurances of 24 is 2 times\n",
      "Occurances of 25 is 3 times\n",
      "Occurances of 26 is 0 times\n",
      "Occurances of 27 is 2 times\n",
      "Occurances of 28 is 0 times\n",
      "Occurances of 29 is 1 times\n",
      "Occurances of 30 is 2 times\n",
      "Occurances of 31 is 0 times\n",
      "Occurances of 32 is 2 times\n",
      "Occurances of 33 is 3 times\n",
      "Occurances of 34 is 0 times\n",
      "Occurances of 35 is 0 times\n",
      "Occurances of 36 is 1 times\n",
      "Occurances of 37 is 3 times\n",
      "Occurances of 38 is 0 times\n",
      "Occurances of 39 is 0 times\n",
      "Occurances of 40 is 3 times\n",
      "Occurances of 41 is 0 times\n",
      "Occurances of 42 is 0 times\n",
      "Occurances of 43 is 1 times\n",
      "Occurances of 44 is 1 times\n",
      "Occurances of 45 is 0 times\n",
      "Occurances of 46 is 0 times\n",
      "Occurances of 47 is 1 times\n",
      "Occurances of 48 is 2 times\n",
      "Occurances of 49 is 0 times\n",
      "Occurances of 50 is 0 times\n",
      "Occurances of 51 is 1 times\n",
      "Occurances of 52 is 1 times\n",
      "Occurances of 53 is 2 times\n",
      "Occurances of 54 is 0 times\n",
      "Occurances of 55 is 2 times\n",
      "Occurances of 56 is 0 times\n",
      "Occurances of 57 is 2 times\n",
      "Occurances of 58 is 2 times\n",
      "Occurances of 59 is 2 times\n",
      "Occurances of 60 is 2 times\n",
      "Occurances of 61 is 0 times\n",
      "Occurances of 62 is 2 times\n",
      "Occurances of 63 is 0 times\n",
      "Occurances of 64 is 1 times\n",
      "Occurances of 65 is 2 times\n",
      "Occurances of 66 is 0 times\n",
      "Occurances of 67 is 0 times\n",
      "Occurances of 68 is 1 times\n",
      "Occurances of 69 is 2 times\n",
      "Occurances of 70 is 0 times\n",
      "Occurances of 71 is 2 times\n",
      "Occurances of 72 is 0 times\n",
      "Occurances of 73 is 0 times\n",
      "Occurances of 74 is 2 times\n",
      "Occurances of 75 is 1 times\n",
      "Occurances of 76 is 0 times\n",
      "Occurances of 77 is 0 times\n",
      "Occurances of 78 is 1 times\n",
      "Occurances of 79 is 0 times\n",
      "Occurances of 80 is 0 times\n",
      "Occurances of 81 is 1 times\n",
      "Occurances of 82 is 2 times\n",
      "Occurances of 83 is 2 times\n",
      "Occurances of 84 is 1 times\n",
      "Occurances of 85 is 1 times\n",
      "Occurances of 86 is 1 times\n",
      "Occurances of 87 is 0 times\n",
      "Occurances of 88 is 1 times\n",
      "Occurances of 89 is 1 times\n",
      "Occurances of 90 is 3 times\n",
      "Occurances of 91 is 2 times\n",
      "Occurances of 92 is 2 times\n",
      "Occurances of 93 is 0 times\n",
      "Occurances of 94 is 1 times\n",
      "Occurances of 95 is 0 times\n",
      "Occurances of 96 is 1 times\n",
      "Occurances of 97 is 0 times\n",
      "Occurances of 98 is 0 times\n",
      "Occurances of 99 is 2 times\n"
     ]
    }
   ],
   "source": [
    "import random\n",
    "x = random.randint(0,100)\n",
    "list = []\n",
    "for i in range(0,100):\n",
    "    list.append(random.randint(0,100))\n",
    "for j in range(0,100):\n",
    "    count = 0\n",
    "    for number in list:\n",
    "        if number == j:\n",
    "            count=count+1\n",
    "    print(f\"Occurances of {j} is {count} times\")\n",
    "        "
   ]
  },
  {
   "cell_type": "markdown",
   "metadata": {},
   "source": [
    "Keyboard input"
   ]
  },
  {
   "cell_type": "code",
   "execution_count": null,
   "metadata": {},
   "outputs": [],
   "source": [
    "tel = input(\"What's your phnome number?\")\n"
   ]
  },
  {
   "cell_type": "markdown",
   "metadata": {},
   "source": [
    "If"
   ]
  },
  {
   "cell_type": "code",
   "execution_count": 1,
   "metadata": {},
   "outputs": [],
   "source": [
    "# Make a program that asks the number between 1 and 10. If the number is out of range the program should display “invalid number”.\n",
    "while True:\n",
    "    try:\n",
    "        numInput = int(input(\"Enter the number between 1 and 10: \"))\n",
    "        if 1 <= numInput <= 10:\n",
    "            break\n",
    "        else:\n",
    "            print(\"Invalid number. Please enter a number between 1 and 10.\")\n",
    "    except ValueError:\n",
    "        print(\"Invalid input. Please enter a valid integer.\")\n"
   ]
  },
  {
   "cell_type": "code",
   "execution_count": null,
   "metadata": {},
   "outputs": [],
   "source": [
    "# Make a program that asks a password.\n",
    "password = input(\"Enter the password\")"
   ]
  },
  {
   "cell_type": "markdown",
   "metadata": {},
   "source": [
    "For loops"
   ]
  },
  {
   "cell_type": "code",
   "execution_count": 1,
   "metadata": {},
   "outputs": [
    {
     "name": "stdout",
     "output_type": "stream",
     "text": [
      "Canada\n",
      "USA\n",
      "Mexico\n",
      "Australia\n"
     ]
    }
   ],
   "source": [
    "# Make a program that lists the countries in the set\n",
    "clist = ['Canada', 'USA', 'Mexico', 'Australia']\n",
    "for country in clist:\n",
    "    print(country)"
   ]
  },
  {
   "cell_type": "code",
   "execution_count": 2,
   "metadata": {},
   "outputs": [
    {
     "name": "stdout",
     "output_type": "stream",
     "text": [
      "0\n",
      "1\n",
      "2\n",
      "3\n",
      "4\n",
      "5\n",
      "6\n",
      "7\n",
      "8\n",
      "9\n",
      "10\n",
      "11\n",
      "12\n",
      "13\n",
      "14\n",
      "15\n",
      "16\n",
      "17\n",
      "18\n",
      "19\n",
      "20\n",
      "21\n",
      "22\n",
      "23\n",
      "24\n",
      "25\n",
      "26\n",
      "27\n",
      "28\n",
      "29\n",
      "30\n",
      "31\n",
      "32\n",
      "33\n",
      "34\n",
      "35\n",
      "36\n",
      "37\n",
      "38\n",
      "39\n",
      "40\n",
      "41\n",
      "42\n",
      "43\n",
      "44\n",
      "45\n",
      "46\n",
      "47\n",
      "48\n",
      "49\n",
      "50\n",
      "51\n",
      "52\n",
      "53\n",
      "54\n",
      "55\n",
      "56\n",
      "57\n",
      "58\n",
      "59\n",
      "60\n",
      "61\n",
      "62\n",
      "63\n",
      "64\n",
      "65\n",
      "66\n",
      "67\n",
      "68\n",
      "69\n",
      "70\n",
      "71\n",
      "72\n",
      "73\n",
      "74\n",
      "75\n",
      "76\n",
      "77\n",
      "78\n",
      "79\n",
      "80\n",
      "81\n",
      "82\n",
      "83\n",
      "84\n",
      "85\n",
      "86\n",
      "87\n",
      "88\n",
      "89\n",
      "90\n",
      "91\n",
      "92\n",
      "93\n",
      "94\n",
      "95\n",
      "96\n",
      "97\n",
      "98\n",
      "99\n"
     ]
    }
   ],
   "source": [
    "# Create a loop that counts from 0 to 100\n",
    "count = 0\n",
    "for i in range(0,101):\n",
    "    print(count)\n",
    "    count+=1"
   ]
  },
  {
   "cell_type": "code",
   "execution_count": 5,
   "metadata": {},
   "outputs": [
    {
     "name": "stdout",
     "output_type": "stream",
     "text": [
      "0 * 0 =  0\t1 * 0 =  0\t2 * 0 =  0\t3 * 0 =  0\t4 * 0 =  0\t5 * 0 =  0\t6 * 0 =  0\t7 * 0 =  0\t8 * 0 =  0\t9 * 0 =  0\t10 * 0 =  0\t\n",
      "0 * 1 =  0\t1 * 1 =  1\t2 * 1 =  2\t3 * 1 =  3\t4 * 1 =  4\t5 * 1 =  5\t6 * 1 =  6\t7 * 1 =  7\t8 * 1 =  8\t9 * 1 =  9\t10 * 1 = 10\t\n",
      "0 * 2 =  0\t1 * 2 =  2\t2 * 2 =  4\t3 * 2 =  6\t4 * 2 =  8\t5 * 2 = 10\t6 * 2 = 12\t7 * 2 = 14\t8 * 2 = 16\t9 * 2 = 18\t10 * 2 = 20\t\n",
      "0 * 3 =  0\t1 * 3 =  3\t2 * 3 =  6\t3 * 3 =  9\t4 * 3 = 12\t5 * 3 = 15\t6 * 3 = 18\t7 * 3 = 21\t8 * 3 = 24\t9 * 3 = 27\t10 * 3 = 30\t\n",
      "0 * 4 =  0\t1 * 4 =  4\t2 * 4 =  8\t3 * 4 = 12\t4 * 4 = 16\t5 * 4 = 20\t6 * 4 = 24\t7 * 4 = 28\t8 * 4 = 32\t9 * 4 = 36\t10 * 4 = 40\t\n",
      "0 * 5 =  0\t1 * 5 =  5\t2 * 5 = 10\t3 * 5 = 15\t4 * 5 = 20\t5 * 5 = 25\t6 * 5 = 30\t7 * 5 = 35\t8 * 5 = 40\t9 * 5 = 45\t10 * 5 = 50\t\n",
      "0 * 6 =  0\t1 * 6 =  6\t2 * 6 = 12\t3 * 6 = 18\t4 * 6 = 24\t5 * 6 = 30\t6 * 6 = 36\t7 * 6 = 42\t8 * 6 = 48\t9 * 6 = 54\t10 * 6 = 60\t\n",
      "0 * 7 =  0\t1 * 7 =  7\t2 * 7 = 14\t3 * 7 = 21\t4 * 7 = 28\t5 * 7 = 35\t6 * 7 = 42\t7 * 7 = 49\t8 * 7 = 56\t9 * 7 = 63\t10 * 7 = 70\t\n",
      "0 * 8 =  0\t1 * 8 =  8\t2 * 8 = 16\t3 * 8 = 24\t4 * 8 = 32\t5 * 8 = 40\t6 * 8 = 48\t7 * 8 = 56\t8 * 8 = 64\t9 * 8 = 72\t10 * 8 = 80\t\n",
      "0 * 9 =  0\t1 * 9 =  9\t2 * 9 = 18\t3 * 9 = 27\t4 * 9 = 36\t5 * 9 = 45\t6 * 9 = 54\t7 * 9 = 63\t8 * 9 = 72\t9 * 9 = 81\t10 * 9 = 90\t\n",
      "0 * 10 =  0\t1 * 10 = 10\t2 * 10 = 20\t3 * 10 = 30\t4 * 10 = 40\t5 * 10 = 50\t6 * 10 = 60\t7 * 10 = 70\t8 * 10 = 80\t9 * 10 = 90\t10 * 10 = 100\t\n"
     ]
    }
   ],
   "source": [
    "# <!-- Make a multiplication table using a loop -->\n",
    "for i in range(0,11):\n",
    "    for j in range(0,11):\n",
    "        result = i * j\n",
    "        print(f\"{j} * {i} = {result:2}\", end=\"\\t\")\n",
    "    print()"
   ]
  },
  {
   "cell_type": "code",
   "execution_count": 6,
   "metadata": {},
   "outputs": [
    {
     "name": "stdout",
     "output_type": "stream",
     "text": [
      "10\n",
      "9\n",
      "8\n",
      "7\n",
      "6\n",
      "5\n",
      "4\n",
      "3\n",
      "2\n",
      "1\n"
     ]
    }
   ],
   "source": [
    "# Output the numbers 1 to 10 backwards using a loop\n",
    "for i in range(10,0,-1):\n",
    "    print(i)"
   ]
  },
  {
   "cell_type": "code",
   "execution_count": 7,
   "metadata": {},
   "outputs": [
    {
     "name": "stdout",
     "output_type": "stream",
     "text": [
      "0\n",
      "2\n",
      "4\n",
      "6\n",
      "8\n",
      "10\n"
     ]
    }
   ],
   "source": [
    "# Create a loop that counts all even numbers to 10\n",
    "for i in range(1,11):\n",
    "    if i%2 == 0:\n",
    "        print(i)"
   ]
  },
  {
   "cell_type": "code",
   "execution_count": 9,
   "metadata": {},
   "outputs": [
    {
     "name": "stdout",
     "output_type": "stream",
     "text": [
      "15150\n"
     ]
    }
   ],
   "source": [
    "# Create a loop that sums the numbers from 100 to 200\n",
    "sum = 0\n",
    "for i in range(100,201):\n",
    "    sum+=i\n",
    "print(sum) "
   ]
  },
  {
   "cell_type": "markdown",
   "metadata": {},
   "source": [
    "While loops"
   ]
  },
  {
   "cell_type": "code",
   "execution_count": 10,
   "metadata": {},
   "outputs": [
    {
     "name": "stdout",
     "output_type": "stream",
     "text": [
      "Canada\n",
      "USA\n",
      "Mexico\n"
     ]
    }
   ],
   "source": [
    "# Make a program that lists the countries in the set below using a while loop.\n",
    "clist = [\"Canada\",\"USA\",\"Mexico\"]\n",
    "while clist:\n",
    "    print(clist.pop(0))"
   ]
  },
  {
   "cell_type": "code",
   "execution_count": 27,
   "metadata": {},
   "outputs": [
    {
     "name": "stdout",
     "output_type": "stream",
     "text": [
      "499500\n"
     ]
    }
   ],
   "source": [
    "# Can you sum numbers in a while loop?\n",
    "num_range = range(0, 1000)\n",
    "iterator = iter(num_range)\n",
    "result_sum = 0\n",
    "\n",
    "while True:\n",
    "    try:\n",
    "        element = next(iterator)\n",
    "        result_sum += element\n",
    "    except StopIteration:\n",
    "        break\n",
    "\n",
    "print(result_sum)\n"
   ]
  },
  {
   "cell_type": "code",
   "execution_count": null,
   "metadata": {},
   "outputs": [],
   "source": [
    "# Can a for loop be used inside a while loop?"
   ]
  }
 ],
 "metadata": {
  "kernelspec": {
   "display_name": "env",
   "language": "python",
   "name": "python3"
  },
  "language_info": {
   "codemirror_mode": {
    "name": "ipython",
    "version": 3
   },
   "file_extension": ".py",
   "mimetype": "text/x-python",
   "name": "python",
   "nbconvert_exporter": "python",
   "pygments_lexer": "ipython3",
   "version": "3.12.0"
  }
 },
 "nbformat": 4,
 "nbformat_minor": 2
}
