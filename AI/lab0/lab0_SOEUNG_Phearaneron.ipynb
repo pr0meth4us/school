{
 "cells": [
  {
   "cell_type": "markdown",
   "metadata": {},
   "source": [
    "Variables\n",
    "• Make a program that displays several numbers.\n",
    "• Make a program that solves and shows the summation of 64 + 32. • Dothesameasin2,butmakeitsumx+y."
   ]
  },
  {
   "cell_type": "code",
   "execution_count": 72,
   "metadata": {},
   "outputs": [
    {
     "name": "stdout",
     "output_type": "stream",
     "text": [
      "6\n",
      "6\n",
      "2\n",
      "7\n",
      "1\n"
     ]
    }
   ],
   "source": [
    "import random\n",
    "sir = []\n",
    "for i in range(0,5):\n",
    "    print(random.randint(0, 10))\n"
   ]
  },
  {
   "cell_type": "markdown",
   "metadata": {},
   "source": []
  },
  {
   "cell_type": "code",
   "execution_count": 73,
   "metadata": {},
   "outputs": [
    {
     "name": "stdout",
     "output_type": "stream",
     "text": [
      "96\n"
     ]
    }
   ],
   "source": [
    "print(64+32)"
   ]
  },
  {
   "cell_type": "code",
   "execution_count": 74,
   "metadata": {},
   "outputs": [
    {
     "name": "stdout",
     "output_type": "stream",
     "text": [
      "96\n"
     ]
    }
   ],
   "source": [
    "x = 64\n",
    "y = 32\n",
    "summation =x+y\n",
    "print(summation)"
   ]
  },
  {
   "cell_type": "markdown",
   "metadata": {},
   "source": [
    "Strings\n",
    "• Make a program that displays your favourite actor/actress.\n",
    "• Try to print the word ‘lucky’ inside s.\n",
    "• Try to print the day, month, year in the form “Today is 2/2/2016”."
   ]
  },
  {
   "cell_type": "code",
   "execution_count": 75,
   "metadata": {},
   "outputs": [
    {
     "name": "stdout",
     "output_type": "stream",
     "text": [
      "Mathew MacCoughney\n"
     ]
    }
   ],
   "source": [
    "print('Mathew MacCoughney')"
   ]
  },
  {
   "cell_type": "code",
   "execution_count": 76,
   "metadata": {},
   "outputs": [
    {
     "name": "stdout",
     "output_type": "stream",
     "text": [
      "lucky\n"
     ]
    }
   ],
   "source": [
    "s = 'lucky'\n",
    "print(s)"
   ]
  },
  {
   "cell_type": "code",
   "execution_count": 77,
   "metadata": {},
   "outputs": [
    {
     "name": "stdout",
     "output_type": "stream",
     "text": [
      "Today is 2/2/2016\n"
     ]
    }
   ],
   "source": [
    "day = 2\n",
    "month = 2\n",
    "year = 2016\n",
    "print(f\"Today is {day}/{month}/{year}\")"
   ]
  },
  {
   "cell_type": "markdown",
   "metadata": {},
   "source": [
    "String replace\n",
    "\n",
    "• Try the replace program\n",
    "• Can a string be replaced twice?\n",
    "• Does replace only work with words or also phrases?"
   ]
  },
  {
   "cell_type": "code",
   "execution_count": 78,
   "metadata": {},
   "outputs": [
    {
     "name": "stdout",
     "output_type": "stream",
     "text": [
      "Robby Barbie\n",
      "rizz\n"
     ]
    }
   ],
   "source": [
    "S = \"Robert Oppenheimer\"\n",
    "S = S.replace(\"Robert\", \"Robby\")\n",
    "S = S.replace(\"Oppenheimer\", \"Barbie\" )\n",
    "print(S)\n",
    "\n",
    "w = \"risk\"\n",
    "w = w.replace(w,\"rizz\")\n",
    "print(w)\n"
   ]
  },
  {
   "cell_type": "markdown",
   "metadata": {},
   "source": [
    "String find\n",
    "• Find out if string find is case sensitive\n",
    "• What if a query string appers twice in the string?\n",
    "• Write a program that asks console input and searches for a query.\n"
   ]
  },
  {
   "cell_type": "code",
   "execution_count": 79,
   "metadata": {},
   "outputs": [
    {
     "name": "stdout",
     "output_type": "stream",
     "text": [
      "7\n",
      "A nuclear weapon[a] is an explosive device that derives its destructive force from nuclear reactions, either fission (fission bomb) or a combination of fission and fusion reactions (thermonuclear bomb), producing a nuclear explosion. Both bomb types release large quantities of energy from relatively small amounts of matter.\n",
      "\n",
      "The first test of a fission (\"atomic\") bomb released an amount of energy approximately equal to 20,000 tons of TNT (84 TJ).[1] The first thermonuclear (\"hydrogen\") bomb test released energy approximately equal to 10 million tons of TNT (42 PJ). Nuclear bombs have had yields between 10 tons TNT (the W54) and 50 megatons for the Tsar Bomba (see TNT equivalent). A thermonuclear weapon weighing as little as 600 pounds (270 kg) can release energy equal to more than 1.2 megatonnes of TNT (5.0 PJ).[2]\n",
      "\n",
      "A nuclear device no larger than a conventional bomb can devastate an entire city by blast, fire, and radiation. Since they are weapons of mass destruction, the proliferation of nuclear weapons is a focus of international relations policy. Nuclear weapons have been deployed twice in war, by the United States against the Japanese cities of Hiroshima and Nagasaki in 1945 during World War II. \n",
      "-1\n"
     ]
    }
   ],
   "source": [
    "s = \"Robert robert robert\"\n",
    "s = s.find(\"robert\")\n",
    "print(s)\n",
    "\n",
    "article = \"\"\"A nuclear weapon[a] is an explosive device that derives its destructive force from nuclear reactions, either fission (fission bomb) or a combination of fission and fusion reactions (thermonuclear bomb), producing a nuclear explosion. Both bomb types release large quantities of energy from relatively small amounts of matter.\n",
    "\n",
    "The first test of a fission (\"atomic\") bomb released an amount of energy approximately equal to 20,000 tons of TNT (84 TJ).[1] The first thermonuclear (\"hydrogen\") bomb test released energy approximately equal to 10 million tons of TNT (42 PJ). Nuclear bombs have had yields between 10 tons TNT (the W54) and 50 megatons for the Tsar Bomba (see TNT equivalent). A thermonuclear weapon weighing as little as 600 pounds (270 kg) can release energy equal to more than 1.2 megatonnes of TNT (5.0 PJ).[2]\n",
    "\n",
    "A nuclear device no larger than a conventional bomb can devastate an entire city by blast, fire, and radiation. Since they are weapons of mass destruction, the proliferation of nuclear weapons is a focus of international relations policy. Nuclear weapons have been deployed twice in war, by the United States against the Japanese cities of Hiroshima and Nagasaki in 1945 during World War II. \"\"\"\n",
    "\n",
    "print(article)\n",
    "userinput = input(\"enter a word to test the find functions: \")\n",
    "\n",
    "print(article.find(userinput))\n"
   ]
  },
  {
   "cell_type": "markdown",
   "metadata": {},
   "source": [
    "String Join\n",
    "• Create a list of words and join them, like the example above.\n",
    "• Try changing the seperator string from a space to an underscore.\n"
   ]
  },
  {
   "cell_type": "code",
   "execution_count": 80,
   "metadata": {},
   "outputs": [
    {
     "name": "stdout",
     "output_type": "stream",
     "text": [
      "You are the man who gave them the power to destroy themselves and the world is not prepared\n",
      "You_are_the_man_who_gave_them_the_power_to_destroy_themselves_and_the_world_is_not_prepared\n"
     ]
    }
   ],
   "source": [
    "words = ['You', 'are', 'the', 'man', 'who', 'gave', 'them', 'the', 'power', 'to', 'destroy', 'themselves', 'and', 'the', 'world', 'is', 'not', 'prepared']\n",
    "joinSpace = ' '.join(words)\n",
    "print(joinSpace)\n",
    "joinUnderscore = '_'.join(words)\n",
    "print(joinUnderscore)"
   ]
  },
  {
   "cell_type": "markdown",
   "metadata": {},
   "source": [
    "String Split\n",
    " Can a string be split on multiple characters?\n",
    "• Can you split a string this string?: World,Earth,America,Canada • Given an article, can you split it based on phrases?\n"
   ]
  },
  {
   "cell_type": "code",
   "execution_count": 81,
   "metadata": {},
   "outputs": [
    {
     "name": "stdout",
     "output_type": "stream",
     "text": [
      "['World', 'Earth', 'America', 'Canada']\n",
      "['Let me first say', ' The man’s morals are appalling', ' Tate takes ideas way too far', ' All because he knows his target audience is super emotional', ' They bleed with vulnerability', ' Hurt people are brutal, anger steers ugly words and even uglier actions', ' Tate took advantage', '\\n\\nWhat I will focus on is his marketing and educational content', ' I hope you can do the same', ' I never watched a video of him speaking ever', ' Well, until today', ' This past week, I’ve been binge-watching marketing videos', ' You know how algorithms work', '']\n"
     ]
    }
   ],
   "source": [
    "string ='World,Earth,America,Canada'\n",
    "print(string.split(','))\n",
    "\n",
    "article = '''Let me first say. The man’s morals are appalling. Tate takes ideas way too far. All because he knows his target audience is super emotional. They bleed with vulnerability. Hurt people are brutal, anger steers ugly words and even uglier actions. Tate took advantage.\n",
    "\n",
    "What I will focus on is his marketing and educational content. I hope you can do the same. I never watched a video of him speaking ever. Well, until today. This past week, I’ve been binge-watching marketing videos. You know how algorithms work.'''\n",
    "\n",
    "phrase = article.split('.')\n",
    "print(phrase)"
   ]
  },
  {
   "cell_type": "markdown",
   "metadata": {},
   "source": [
    "Random Number\n",
    "• Make a program that creates a random number and stores it into x.\n",
    "• Make a program that prints 3 random numbers.\n",
    "• Create a program that generates 100 random numbers and find the frequency of each number."
   ]
  },
  {
   "cell_type": "code",
   "execution_count": 82,
   "metadata": {},
   "outputs": [
    {
     "name": "stdout",
     "output_type": "stream",
     "text": [
      "Occurances of 0 is 1 times\n",
      "Occurances of 1 is 1 times\n",
      "Occurances of 2 is 2 times\n",
      "Occurances of 3 is 2 times\n",
      "Occurances of 4 is 0 times\n",
      "Occurances of 5 is 1 times\n",
      "Occurances of 6 is 1 times\n",
      "Occurances of 7 is 1 times\n",
      "Occurances of 8 is 2 times\n",
      "Occurances of 9 is 3 times\n",
      "Occurances of 10 is 1 times\n",
      "Occurances of 11 is 1 times\n",
      "Occurances of 12 is 0 times\n",
      "Occurances of 13 is 0 times\n",
      "Occurances of 14 is 0 times\n",
      "Occurances of 15 is 0 times\n",
      "Occurances of 16 is 0 times\n",
      "Occurances of 17 is 0 times\n",
      "Occurances of 18 is 1 times\n",
      "Occurances of 19 is 2 times\n",
      "Occurances of 20 is 1 times\n",
      "Occurances of 21 is 2 times\n",
      "Occurances of 22 is 1 times\n",
      "Occurances of 23 is 1 times\n",
      "Occurances of 24 is 3 times\n",
      "Occurances of 25 is 1 times\n",
      "Occurances of 26 is 1 times\n",
      "Occurances of 27 is 0 times\n",
      "Occurances of 28 is 1 times\n",
      "Occurances of 29 is 1 times\n",
      "Occurances of 30 is 1 times\n",
      "Occurances of 31 is 1 times\n",
      "Occurances of 32 is 0 times\n",
      "Occurances of 33 is 1 times\n",
      "Occurances of 34 is 1 times\n",
      "Occurances of 35 is 0 times\n",
      "Occurances of 36 is 1 times\n",
      "Occurances of 37 is 0 times\n",
      "Occurances of 38 is 0 times\n",
      "Occurances of 39 is 0 times\n",
      "Occurances of 40 is 2 times\n",
      "Occurances of 41 is 0 times\n",
      "Occurances of 42 is 1 times\n",
      "Occurances of 43 is 1 times\n",
      "Occurances of 44 is 2 times\n",
      "Occurances of 45 is 0 times\n",
      "Occurances of 46 is 1 times\n",
      "Occurances of 47 is 0 times\n",
      "Occurances of 48 is 1 times\n",
      "Occurances of 49 is 1 times\n",
      "Occurances of 50 is 1 times\n",
      "Occurances of 51 is 1 times\n",
      "Occurances of 52 is 1 times\n",
      "Occurances of 53 is 1 times\n",
      "Occurances of 54 is 1 times\n",
      "Occurances of 55 is 1 times\n",
      "Occurances of 56 is 1 times\n",
      "Occurances of 57 is 0 times\n",
      "Occurances of 58 is 0 times\n",
      "Occurances of 59 is 1 times\n",
      "Occurances of 60 is 2 times\n",
      "Occurances of 61 is 1 times\n",
      "Occurances of 62 is 1 times\n",
      "Occurances of 63 is 2 times\n",
      "Occurances of 64 is 4 times\n",
      "Occurances of 65 is 2 times\n",
      "Occurances of 66 is 1 times\n",
      "Occurances of 67 is 1 times\n",
      "Occurances of 68 is 0 times\n",
      "Occurances of 69 is 1 times\n",
      "Occurances of 70 is 0 times\n",
      "Occurances of 71 is 1 times\n",
      "Occurances of 72 is 1 times\n",
      "Occurances of 73 is 1 times\n",
      "Occurances of 74 is 1 times\n",
      "Occurances of 75 is 1 times\n",
      "Occurances of 76 is 0 times\n",
      "Occurances of 77 is 0 times\n",
      "Occurances of 78 is 1 times\n",
      "Occurances of 79 is 2 times\n",
      "Occurances of 80 is 2 times\n",
      "Occurances of 81 is 0 times\n",
      "Occurances of 82 is 1 times\n",
      "Occurances of 83 is 0 times\n",
      "Occurances of 84 is 0 times\n",
      "Occurances of 85 is 1 times\n",
      "Occurances of 86 is 3 times\n",
      "Occurances of 87 is 2 times\n",
      "Occurances of 88 is 1 times\n",
      "Occurances of 89 is 2 times\n",
      "Occurances of 90 is 0 times\n",
      "Occurances of 91 is 1 times\n",
      "Occurances of 92 is 2 times\n",
      "Occurances of 93 is 1 times\n",
      "Occurances of 94 is 1 times\n",
      "Occurances of 95 is 3 times\n",
      "Occurances of 96 is 2 times\n",
      "Occurances of 97 is 0 times\n",
      "Occurances of 98 is 0 times\n",
      "Occurances of 99 is 2 times\n"
     ]
    }
   ],
   "source": [
    "import random\n",
    "x = random.randint(0,100)\n",
    "list = []\n",
    "for i in range(0,100):\n",
    "    list.append(random.randint(0,100))\n",
    "for j in range(0,100):\n",
    "    count = 0\n",
    "    for number in list:\n",
    "        if number == j:\n",
    "            count=count+1\n",
    "    print(f\"Occurances of {j} is {count} times\")\n",
    "        "
   ]
  },
  {
   "cell_type": "markdown",
   "metadata": {},
   "source": [
    "Keyboard input\n",
    "Make a program that asks a phone number.\n",
    "• Make a program that asks the users preferred programming language."
   ]
  },
  {
   "cell_type": "code",
   "execution_count": 83,
   "metadata": {},
   "outputs": [],
   "source": [
    "tel = input(\"What's your phnome number?\")\n",
    "lang = input(\"What's your preferred programming language?\")\n"
   ]
  },
  {
   "cell_type": "markdown",
   "metadata": {},
   "source": [
    "If"
   ]
  },
  {
   "cell_type": "code",
   "execution_count": 84,
   "metadata": {},
   "outputs": [],
   "source": [
    "# Make a program that asks the number between 1 and 10. If the number is out of range the program should display “invalid number”.\n",
    "while True:\n",
    "    try:\n",
    "        numInput = int(input(\"Enter the number between 1 and 10: \"))\n",
    "        if 1 <= numInput <= 10:\n",
    "            break\n",
    "        else:\n",
    "            print(\"Invalid number. Please enter a number between 1 and 10.\")\n",
    "    except ValueError:\n",
    "        print(\"Invalid input. Please enter a valid integer.\")\n"
   ]
  },
  {
   "cell_type": "code",
   "execution_count": 85,
   "metadata": {},
   "outputs": [],
   "source": [
    "# Make a program that asks a password.\n",
    "password = input(\"Enter the password\")"
   ]
  },
  {
   "cell_type": "markdown",
   "metadata": {},
   "source": [
    "For loops"
   ]
  },
  {
   "cell_type": "code",
   "execution_count": 86,
   "metadata": {},
   "outputs": [
    {
     "name": "stdout",
     "output_type": "stream",
     "text": [
      "Canada\n",
      "USA\n",
      "Mexico\n",
      "Australia\n"
     ]
    }
   ],
   "source": [
    "# Make a program that lists the countries in the set\n",
    "clist = ['Canada', 'USA', 'Mexico', 'Australia']\n",
    "for country in clist:\n",
    "    print(country)"
   ]
  },
  {
   "cell_type": "code",
   "execution_count": 87,
   "metadata": {},
   "outputs": [
    {
     "name": "stdout",
     "output_type": "stream",
     "text": [
      "0\n",
      "1\n",
      "2\n",
      "3\n",
      "4\n",
      "5\n",
      "6\n",
      "7\n",
      "8\n",
      "9\n",
      "10\n",
      "11\n",
      "12\n",
      "13\n",
      "14\n",
      "15\n",
      "16\n",
      "17\n",
      "18\n",
      "19\n",
      "20\n",
      "21\n",
      "22\n",
      "23\n",
      "24\n",
      "25\n",
      "26\n",
      "27\n",
      "28\n",
      "29\n",
      "30\n",
      "31\n",
      "32\n",
      "33\n",
      "34\n",
      "35\n",
      "36\n",
      "37\n",
      "38\n",
      "39\n",
      "40\n",
      "41\n",
      "42\n",
      "43\n",
      "44\n",
      "45\n",
      "46\n",
      "47\n",
      "48\n",
      "49\n",
      "50\n",
      "51\n",
      "52\n",
      "53\n",
      "54\n",
      "55\n",
      "56\n",
      "57\n",
      "58\n",
      "59\n",
      "60\n",
      "61\n",
      "62\n",
      "63\n",
      "64\n",
      "65\n",
      "66\n",
      "67\n",
      "68\n",
      "69\n",
      "70\n",
      "71\n",
      "72\n",
      "73\n",
      "74\n",
      "75\n",
      "76\n",
      "77\n",
      "78\n",
      "79\n",
      "80\n",
      "81\n",
      "82\n",
      "83\n",
      "84\n",
      "85\n",
      "86\n",
      "87\n",
      "88\n",
      "89\n",
      "90\n",
      "91\n",
      "92\n",
      "93\n",
      "94\n",
      "95\n",
      "96\n",
      "97\n",
      "98\n",
      "99\n",
      "100\n"
     ]
    }
   ],
   "source": [
    "# Create a loop that counts from 0 to 100\n",
    "count = 0\n",
    "for i in range(0,101):\n",
    "    print(count)\n",
    "    count+=1"
   ]
  },
  {
   "cell_type": "code",
   "execution_count": 88,
   "metadata": {},
   "outputs": [
    {
     "name": "stdout",
     "output_type": "stream",
     "text": [
      "0 * 0 =  0\t1 * 0 =  0\t2 * 0 =  0\t3 * 0 =  0\t4 * 0 =  0\t5 * 0 =  0\t6 * 0 =  0\t7 * 0 =  0\t8 * 0 =  0\t9 * 0 =  0\t10 * 0 =  0\t\n",
      "0 * 1 =  0\t1 * 1 =  1\t2 * 1 =  2\t3 * 1 =  3\t4 * 1 =  4\t5 * 1 =  5\t6 * 1 =  6\t7 * 1 =  7\t8 * 1 =  8\t9 * 1 =  9\t10 * 1 = 10\t\n",
      "0 * 2 =  0\t1 * 2 =  2\t2 * 2 =  4\t3 * 2 =  6\t4 * 2 =  8\t5 * 2 = 10\t6 * 2 = 12\t7 * 2 = 14\t8 * 2 = 16\t9 * 2 = 18\t10 * 2 = 20\t\n",
      "0 * 3 =  0\t1 * 3 =  3\t2 * 3 =  6\t3 * 3 =  9\t4 * 3 = 12\t5 * 3 = 15\t6 * 3 = 18\t7 * 3 = 21\t8 * 3 = 24\t9 * 3 = 27\t10 * 3 = 30\t\n",
      "0 * 4 =  0\t1 * 4 =  4\t2 * 4 =  8\t3 * 4 = 12\t4 * 4 = 16\t5 * 4 = 20\t6 * 4 = 24\t7 * 4 = 28\t8 * 4 = 32\t9 * 4 = 36\t10 * 4 = 40\t\n",
      "0 * 5 =  0\t1 * 5 =  5\t2 * 5 = 10\t3 * 5 = 15\t4 * 5 = 20\t5 * 5 = 25\t6 * 5 = 30\t7 * 5 = 35\t8 * 5 = 40\t9 * 5 = 45\t10 * 5 = 50\t\n",
      "0 * 6 =  0\t1 * 6 =  6\t2 * 6 = 12\t3 * 6 = 18\t4 * 6 = 24\t5 * 6 = 30\t6 * 6 = 36\t7 * 6 = 42\t8 * 6 = 48\t9 * 6 = 54\t10 * 6 = 60\t\n",
      "0 * 7 =  0\t1 * 7 =  7\t2 * 7 = 14\t3 * 7 = 21\t4 * 7 = 28\t5 * 7 = 35\t6 * 7 = 42\t7 * 7 = 49\t8 * 7 = 56\t9 * 7 = 63\t10 * 7 = 70\t\n",
      "0 * 8 =  0\t1 * 8 =  8\t2 * 8 = 16\t3 * 8 = 24\t4 * 8 = 32\t5 * 8 = 40\t6 * 8 = 48\t7 * 8 = 56\t8 * 8 = 64\t9 * 8 = 72\t10 * 8 = 80\t\n",
      "0 * 9 =  0\t1 * 9 =  9\t2 * 9 = 18\t3 * 9 = 27\t4 * 9 = 36\t5 * 9 = 45\t6 * 9 = 54\t7 * 9 = 63\t8 * 9 = 72\t9 * 9 = 81\t10 * 9 = 90\t\n",
      "0 * 10 =  0\t1 * 10 = 10\t2 * 10 = 20\t3 * 10 = 30\t4 * 10 = 40\t5 * 10 = 50\t6 * 10 = 60\t7 * 10 = 70\t8 * 10 = 80\t9 * 10 = 90\t10 * 10 = 100\t\n"
     ]
    }
   ],
   "source": [
    "# <!-- Make a multiplication table using a loop -->\n",
    "for i in range(0,11):\n",
    "    for j in range(0,11):\n",
    "        result = i * j\n",
    "        print(f\"{j} * {i} = {result:2}\", end=\"\\t\")\n",
    "    print()"
   ]
  },
  {
   "cell_type": "code",
   "execution_count": 89,
   "metadata": {},
   "outputs": [
    {
     "name": "stdout",
     "output_type": "stream",
     "text": [
      "10\n",
      "9\n",
      "8\n",
      "7\n",
      "6\n",
      "5\n",
      "4\n",
      "3\n",
      "2\n",
      "1\n"
     ]
    }
   ],
   "source": [
    "# Output the numbers 1 to 10 backwards using a loop\n",
    "for i in range(10,0,-1):\n",
    "    print(i)"
   ]
  },
  {
   "cell_type": "code",
   "execution_count": 90,
   "metadata": {},
   "outputs": [
    {
     "name": "stdout",
     "output_type": "stream",
     "text": [
      "2\n",
      "4\n",
      "6\n",
      "8\n",
      "10\n"
     ]
    }
   ],
   "source": [
    "# Create a loop that counts all even numbers to 10\n",
    "for i in range(1,11):\n",
    "    if i%2 == 0:\n",
    "        print(i)"
   ]
  },
  {
   "cell_type": "code",
   "execution_count": 91,
   "metadata": {},
   "outputs": [
    {
     "name": "stdout",
     "output_type": "stream",
     "text": [
      "15150\n"
     ]
    }
   ],
   "source": [
    "# Create a loop that sums the numbers from 100 to 200\n",
    "sum = 0\n",
    "for i in range(100,201):\n",
    "    sum+=i\n",
    "print(sum) "
   ]
  },
  {
   "cell_type": "markdown",
   "metadata": {},
   "source": [
    "While loops"
   ]
  },
  {
   "cell_type": "code",
   "execution_count": 92,
   "metadata": {},
   "outputs": [
    {
     "name": "stdout",
     "output_type": "stream",
     "text": [
      "Canada\n",
      "USA\n",
      "Mexico\n"
     ]
    }
   ],
   "source": [
    "# Make a program that lists the countries in the set below using a while loop.\n",
    "clist = [\"Canada\",\"USA\",\"Mexico\"]\n",
    "while clist:\n",
    "    print(clist.pop(0))"
   ]
  },
  {
   "cell_type": "code",
   "execution_count": 93,
   "metadata": {},
   "outputs": [
    {
     "name": "stdout",
     "output_type": "stream",
     "text": [
      "499500\n"
     ]
    }
   ],
   "source": [
    "# Can you sum numbers in a while loop?\n",
    "num_range = range(0, 1000)\n",
    "iterator = iter(num_range)\n",
    "result_sum = 0\n",
    "\n",
    "while True:\n",
    "    try:\n",
    "        element = next(iterator)\n",
    "        result_sum += element\n",
    "    except StopIteration:\n",
    "        break\n",
    "\n",
    "print(result_sum)\n"
   ]
  },
  {
   "cell_type": "code",
   "execution_count": 94,
   "metadata": {},
   "outputs": [
    {
     "name": "stdout",
     "output_type": "stream",
     "text": [
      "1\n",
      "2\n",
      "3\n",
      "4\n",
      "5\n",
      "6\n",
      "7\n",
      "8\n",
      "9\n",
      "Stop\n"
     ]
    }
   ],
   "source": [
    "# Can a for loop be used inside a while loop?\n",
    "iteration = [1, 2, 3, 4, 5, 6, 7, 8, 9, \"Stop\"]\n",
    "loop = True\n",
    "while loop:\n",
    "    for item in iteration:\n",
    "        print(item)\n",
    "        if item == \"Stop\":\n",
    "            loop = False\n",
    "            break"
   ]
  },
  {
   "cell_type": "markdown",
   "metadata": {},
   "source": [
    "Functions"
   ]
  },
  {
   "cell_type": "code",
   "execution_count": 95,
   "metadata": {},
   "outputs": [
    {
     "name": "stdout",
     "output_type": "stream",
     "text": [
      "15\n"
     ]
    }
   ],
   "source": [
    "# 1. Make a function that sums the list mylist = [1,2,3,4,5]\n",
    "def sumlist(list):\n",
    "    sum =0 \n",
    "    for item in list:\n",
    "        sum+= item    \n",
    "    return sum\n",
    "\n",
    "if __name__ == \"__main__\":\n",
    "    mylist = [1,2,3,4,5]\n",
    "    print(sumlist(mylist))"
   ]
  },
  {
   "cell_type": "code",
   "execution_count": 96,
   "metadata": {},
   "outputs": [
    {
     "name": "stdout",
     "output_type": "stream",
     "text": [
      "15\n"
     ]
    }
   ],
   "source": [
    "# Can functions be called inside a function?\n",
    "\n",
    "def mylist():\n",
    "    mylist = [1,2,3,4,5]\n",
    "    return mylist\n",
    "\n",
    "def sumlist():\n",
    "    list = mylist()\n",
    "    sum =0 \n",
    "    for item in list:\n",
    "        sum+= item    \n",
    "    return sum\n",
    "\n",
    "if __name__ == \"__main__\":\n",
    "    print(sumlist())\n"
   ]
  },
  {
   "cell_type": "code",
   "execution_count": 97,
   "metadata": {},
   "outputs": [
    {
     "name": "stdout",
     "output_type": "stream",
     "text": [
      "Hello World\n",
      "Hello World\n",
      "Hello World\n",
      "Hello World\n",
      "Hello World\n"
     ]
    }
   ],
   "source": [
    "# Can a function call itself?\n",
    "\n",
    "def hello(n):\n",
    "    if n == 0:\n",
    "        return\n",
    "    print(\"Hello World\")\n",
    "    hello(n-1)\n",
    "\n",
    "hello(5)"
   ]
  },
  {
   "cell_type": "code",
   "execution_count": 98,
   "metadata": {},
   "outputs": [
    {
     "name": "stdout",
     "output_type": "stream",
     "text": [
      "anyang\n"
     ]
    }
   ],
   "source": [
    "# Can variables defined in a function be used in another function?\n",
    "\n",
    "def hello():\n",
    "    variable = \"anyang\"\n",
    "    def world():\n",
    "        print(variable)\n",
    "    world()\n",
    "    \n",
    "hello()\n"
   ]
  },
  {
   "cell_type": "markdown",
   "metadata": {},
   "source": [
    "List"
   ]
  },
  {
   "cell_type": "code",
   "execution_count": 99,
   "metadata": {},
   "outputs": [
    {
     "name": "stdout",
     "output_type": "stream",
     "text": [
      "Maine\n",
      "Maryland\n",
      "Massachusetts\n",
      "Michigan\n",
      "Minnesota\n",
      "Mississippi\n",
      "Missouri\n",
      "Montana\n"
     ]
    }
   ],
   "source": [
    "# • Make a program that displays the states in the U.S.\n",
    "states = [\n",
    "    'Alabama', 'Alaska', 'Arizona', 'Arkansas', 'California', 'Colorado', 'Connecticut', 'Delaware',\n",
    "    'Florida', 'Georgia', 'Hawaii', 'Idaho', 'Illinois', 'Indiana', 'Iowa', 'Kansas', 'Kentucky',\n",
    "    'Louisiana', 'Maine', 'Maryland', 'Massachusetts', 'Michigan', 'Minnesota', 'Mississippi', 'Missouri',\n",
    "    'Montana', 'Nebraska', 'Nevada', 'New Hampshire', 'New Jersey', 'New Mexico', 'New York',\n",
    "    'North Carolina', 'North Dakota', 'Ohio', 'Oklahoma', 'Oregon', 'Pennsylvania', 'Rhode Island',\n",
    "    'South Carolina', 'South Dakota', 'Tennessee', 'Texas', 'Utah', 'Vermont', 'Virginia', 'Washington',\n",
    "    'West Virginia', 'Wisconsin', 'Wyoming'\n",
    "]\n",
    "# • Display all states starting with the letter M\n",
    "for state in states: \n",
    "    if state[0] == \"M\":\n",
    "        print(state)"
   ]
  },
  {
   "cell_type": "markdown",
   "metadata": {},
   "source": [
    "List operations"
   ]
  },
  {
   "cell_type": "code",
   "execution_count": 100,
   "metadata": {},
   "outputs": [
    {
     "name": "stdout",
     "output_type": "stream",
     "text": [
      "[6, 4, 2, 12, 8, 4]\n",
      "[6, 3, 2, 12, 8, 4]\n"
     ]
    }
   ],
   "source": [
    "# • Given the list y = [6,4,2] add the items 12, 8 and 4.\n",
    "y = [6, 4, 2]\n",
    "y.extend([12, 8, 4])\n",
    "print(y)\n",
    "\n",
    "# • Change the 2nd item of the list to 3.\n",
    "y[1] = 3\n",
    "print(y)"
   ]
  },
  {
   "cell_type": "markdown",
   "metadata": {},
   "source": [
    "Sorting list"
   ]
  },
  {
   "cell_type": "code",
   "execution_count": 101,
   "metadata": {},
   "outputs": [
    {
     "name": "stdout",
     "output_type": "stream",
     "text": [
      "[(3, 6), (3, 1), (4, 7), (5, 9), (8, 4)]\n"
     ]
    }
   ],
   "source": [
    "# Sorting list\n",
    "x = [(3, 6), (4, 7), (5, 9), (8, 4), (3, 1)]\n",
    "sorted_by_first_element = sorted(x, key=lambda pair: pair[0])\n",
    "print(sorted_by_first_element)\n"
   ]
  },
  {
   "cell_type": "markdown",
   "metadata": {},
   "source": [
    "Range function"
   ]
  },
  {
   "cell_type": "code",
   "execution_count": 102,
   "metadata": {},
   "outputs": [
    {
     "name": "stdout",
     "output_type": "stream",
     "text": [
      "1000 1\n",
      "[2, 4, 6, 8, 10, 12, 14, 16, 18, 20, 22, 24, 26, 28, 30, 32, 34, 36, 38, 40, 42, 44, 46, 48, 50, 52, 54, 56, 58, 60, 62, 64, 66, 68, 70, 72, 74, 76, 78, 80, 82, 84, 86, 88, 90, 92, 94, 96, 98, 100, 102, 104, 106, 108, 110, 112, 114, 116, 118, 120, 122, 124, 126, 128, 130, 132, 134, 136, 138, 140, 142, 144, 146, 148, 150, 152, 154, 156, 158, 160, 162, 164, 166, 168, 170, 172, 174, 176, 178, 180, 182, 184, 186, 188, 190, 192, 194, 196, 198, 200, 202, 204, 206, 208, 210, 212, 214, 216, 218, 220, 222, 224, 226, 228, 230, 232, 234, 236, 238, 240, 242, 244, 246, 248, 250, 252, 254, 256, 258, 260, 262, 264, 266, 268, 270, 272, 274, 276, 278, 280, 282, 284, 286, 288, 290, 292, 294, 296, 298, 300, 302, 304, 306, 308, 310, 312, 314, 316, 318, 320, 322, 324, 326, 328, 330, 332, 334, 336, 338, 340, 342, 344, 346, 348, 350, 352, 354, 356, 358, 360, 362, 364, 366, 368, 370, 372, 374, 376, 378, 380, 382, 384, 386, 388, 390, 392, 394, 396, 398, 400, 402, 404, 406, 408, 410, 412, 414, 416, 418, 420, 422, 424, 426, 428, 430, 432, 434, 436, 438, 440, 442, 444, 446, 448, 450, 452, 454, 456, 458, 460, 462, 464, 466, 468, 470, 472, 474, 476, 478, 480, 482, 484, 486, 488, 490, 492, 494, 496, 498, 500, 502, 504, 506, 508, 510, 512, 514, 516, 518, 520, 522, 524, 526, 528, 530, 532, 534, 536, 538, 540, 542, 544, 546, 548, 550, 552, 554, 556, 558, 560, 562, 564, 566, 568, 570, 572, 574, 576, 578, 580, 582, 584, 586, 588, 590, 592, 594, 596, 598, 600, 602, 604, 606, 608, 610, 612, 614, 616, 618, 620, 622, 624, 626, 628, 630, 632, 634, 636, 638, 640, 642, 644, 646, 648, 650, 652, 654, 656, 658, 660, 662, 664, 666, 668, 670, 672, 674, 676, 678, 680, 682, 684, 686, 688, 690, 692, 694, 696, 698, 700, 702, 704, 706, 708, 710, 712, 714, 716, 718, 720, 722, 724, 726, 728, 730, 732, 734, 736, 738, 740, 742, 744, 746, 748, 750, 752, 754, 756, 758, 760, 762, 764, 766, 768, 770, 772, 774, 776, 778, 780, 782, 784, 786, 788, 790, 792, 794, 796, 798, 800, 802, 804, 806, 808, 810, 812, 814, 816, 818, 820, 822, 824, 826, 828, 830, 832, 834, 836, 838, 840, 842, 844, 846, 848, 850, 852, 854, 856, 858, 860, 862, 864, 866, 868, 870, 872, 874, 876, 878, 880, 882, 884, 886, 888, 890, 892, 894, 896, 898, 900, 902, 904, 906, 908, 910, 912, 914, 916, 918, 920, 922, 924, 926, 928, 930, 932, 934, 936, 938, 940, 942, 944, 946, 948, 950, 952, 954, 956, 958, 960, 962, 964, 966, 968, 970, 972, 974, 976, 978, 980, 982, 984, 986, 988, 990, 992, 994, 996, 998, 1000]\n",
      "[1, 3, 5, 7, 9, 11, 13, 15, 17, 19, 21, 23, 25, 27, 29, 31, 33, 35, 37, 39, 41, 43, 45, 47, 49, 51, 53, 55, 57, 59, 61, 63, 65, 67, 69, 71, 73, 75, 77, 79, 81, 83, 85, 87, 89, 91, 93, 95, 97, 99, 101, 103, 105, 107, 109, 111, 113, 115, 117, 119, 121, 123, 125, 127, 129, 131, 133, 135, 137, 139, 141, 143, 145, 147, 149, 151, 153, 155, 157, 159, 161, 163, 165, 167, 169, 171, 173, 175, 177, 179, 181, 183, 185, 187, 189, 191, 193, 195, 197, 199, 201, 203, 205, 207, 209, 211, 213, 215, 217, 219, 221, 223, 225, 227, 229, 231, 233, 235, 237, 239, 241, 243, 245, 247, 249, 251, 253, 255, 257, 259, 261, 263, 265, 267, 269, 271, 273, 275, 277, 279, 281, 283, 285, 287, 289, 291, 293, 295, 297, 299, 301, 303, 305, 307, 309, 311, 313, 315, 317, 319, 321, 323, 325, 327, 329, 331, 333, 335, 337, 339, 341, 343, 345, 347, 349, 351, 353, 355, 357, 359, 361, 363, 365, 367, 369, 371, 373, 375, 377, 379, 381, 383, 385, 387, 389, 391, 393, 395, 397, 399, 401, 403, 405, 407, 409, 411, 413, 415, 417, 419, 421, 423, 425, 427, 429, 431, 433, 435, 437, 439, 441, 443, 445, 447, 449, 451, 453, 455, 457, 459, 461, 463, 465, 467, 469, 471, 473, 475, 477, 479, 481, 483, 485, 487, 489, 491, 493, 495, 497, 499, 501, 503, 505, 507, 509, 511, 513, 515, 517, 519, 521, 523, 525, 527, 529, 531, 533, 535, 537, 539, 541, 543, 545, 547, 549, 551, 553, 555, 557, 559, 561, 563, 565, 567, 569, 571, 573, 575, 577, 579, 581, 583, 585, 587, 589, 591, 593, 595, 597, 599, 601, 603, 605, 607, 609, 611, 613, 615, 617, 619, 621, 623, 625, 627, 629, 631, 633, 635, 637, 639, 641, 643, 645, 647, 649, 651, 653, 655, 657, 659, 661, 663, 665, 667, 669, 671, 673, 675, 677, 679, 681, 683, 685, 687, 689, 691, 693, 695, 697, 699, 701, 703, 705, 707, 709, 711, 713, 715, 717, 719, 721, 723, 725, 727, 729, 731, 733, 735, 737, 739, 741, 743, 745, 747, 749, 751, 753, 755, 757, 759, 761, 763, 765, 767, 769, 771, 773, 775, 777, 779, 781, 783, 785, 787, 789, 791, 793, 795, 797, 799, 801, 803, 805, 807, 809, 811, 813, 815, 817, 819, 821, 823, 825, 827, 829, 831, 833, 835, 837, 839, 841, 843, 845, 847, 849, 851, 853, 855, 857, 859, 861, 863, 865, 867, 869, 871, 873, 875, 877, 879, 881, 883, 885, 887, 889, 891, 893, 895, 897, 899, 901, 903, 905, 907, 909, 911, 913, 915, 917, 919, 921, 923, 925, 927, 929, 931, 933, 935, 937, 939, 941, 943, 945, 947, 949, 951, 953, 955, 957, 959, 961, 963, 965, 967, 969, 971, 973, 975, 977, 979, 981, 983, 985, 987, 989, 991, 993, 995, 997, 999]\n"
     ]
    }
   ],
   "source": [
    "# • Create a list of one thousand numbers\n",
    "numlist = range(1,1001)\n",
    "# • Get the largest and smallest number from that list\n",
    "maxnum = max(numlist)\n",
    "minnum = min(numlist) \n",
    "print(maxnum, minnum)\n",
    "# • Create two lists, an even and odd one.\n",
    "even_nums = [num for num in numlist if num % 2 == 0]\n",
    "odd_nums = [num for num in numlist if num % 2 != 0]\n",
    "print(even_nums)\n",
    "print(odd_nums)"
   ]
  },
  {
   "cell_type": "markdown",
   "metadata": {},
   "source": [
    "Dictionary"
   ]
  },
  {
   "cell_type": "code",
   "execution_count": 103,
   "metadata": {},
   "outputs": [
    {
     "name": "stdout",
     "output_type": "stream",
     "text": [
      "United States : US\n",
      "Canada : CA\n",
      "United Kingdom : UK\n",
      "Germany : DE\n",
      "France : FR\n",
      "Japan : JP\n",
      "India : IN\n"
     ]
    }
   ],
   "source": [
    "# Creating a dictionary mapping countries to country short codes\n",
    "country_codes = {\n",
    "    'United States': 'US',\n",
    "    'Canada': 'CA',\n",
    "    'United Kingdom': 'UK',\n",
    "    'Germany': 'DE',\n",
    "    'France': 'FR',\n",
    "    'Japan': 'JP',\n",
    "    'India': 'IN',\n",
    "}\n",
    "\n",
    "# Printing each item (key and value) in the dictionary\n",
    "for country, code in country_codes.items():\n",
    "    print(f\"{country} : {code}\")"
   ]
  },
  {
   "cell_type": "markdown",
   "metadata": {},
   "source": [
    "Read file"
   ]
  },
  {
   "cell_type": "code",
   "execution_count": 104,
   "metadata": {},
   "outputs": [
    {
     "name": "stdout",
     "output_type": "stream",
     "text": [
      "0: rgfdg\n",
      "\n",
      "1: gdf\n",
      "\n",
      "2: s\n",
      "\n",
      "3: fs\n",
      "\n",
      "4: gfs\n",
      "\n",
      "5: fd\n",
      "\n",
      "6: gsd\n",
      "\n",
      "7: fg\n",
      "\n",
      "8: dg\n",
      "\n",
      "9: fsgfd\n",
      "\n",
      "10: gsdf\n",
      "\n",
      "11: h\n",
      "\n",
      "12: dfg\n",
      "\n",
      "13: sg\n",
      "\n",
      "14: dfdf\n",
      "\n",
      "15: gdfdg\n",
      "\n",
      "16: sfg\n",
      "\n",
      "17: sfgghd\n",
      "\n",
      "18: fgh\n",
      "\n",
      "19: dfgf\n",
      "\n",
      "20: sfgghdf\n",
      "\n",
      "21: ds\n",
      "\n",
      "22: gdfs\n",
      "\n",
      "23: gdf\n",
      "\n",
      "24: fg\n"
     ]
    }
   ],
   "source": [
    "# • Read a file and number every line\n",
    "with open('file.txt', 'r') as f:\n",
    "    for i, line in enumerate(f):\n",
    "        print(f\"{i}: {line}\")"
   ]
  },
  {
   "cell_type": "code",
   "execution_count": 105,
   "metadata": {},
   "outputs": [
    {
     "ename": "FileNotFoundError",
     "evalue": "[Errno 2] No such file or directory: 'filgffhggyjccje.txt'",
     "output_type": "error",
     "traceback": [
      "\u001b[0;31m---------------------------------------------------------------------------\u001b[0m",
      "\u001b[0;31mFileNotFoundError\u001b[0m                         Traceback (most recent call last)",
      "Cell \u001b[0;32mIn[105], line 2\u001b[0m\n\u001b[1;32m      1\u001b[0m \u001b[38;5;66;03m# • Find out what the program does if the file doesn’t exist.\u001b[39;00m\n\u001b[0;32m----> 2\u001b[0m \u001b[38;5;28;01mwith\u001b[39;00m \u001b[38;5;28;43mopen\u001b[39;49m\u001b[43m(\u001b[49m\u001b[38;5;124;43m'\u001b[39;49m\u001b[38;5;124;43mfilgffhggyjccje.txt\u001b[39;49m\u001b[38;5;124;43m'\u001b[39;49m\u001b[43m,\u001b[49m\u001b[43m \u001b[49m\u001b[38;5;124;43m'\u001b[39;49m\u001b[38;5;124;43mr\u001b[39;49m\u001b[38;5;124;43m'\u001b[39;49m\u001b[43m)\u001b[49m \u001b[38;5;28;01mas\u001b[39;00m f:\n\u001b[1;32m      3\u001b[0m     \u001b[38;5;28;01mfor\u001b[39;00m i, line \u001b[38;5;129;01min\u001b[39;00m \u001b[38;5;28menumerate\u001b[39m(f):\n\u001b[1;32m      4\u001b[0m         \u001b[38;5;28mprint\u001b[39m(\u001b[38;5;124mf\u001b[39m\u001b[38;5;124m\"\u001b[39m\u001b[38;5;132;01m{\u001b[39;00mi\u001b[38;5;132;01m}\u001b[39;00m\u001b[38;5;124m: \u001b[39m\u001b[38;5;132;01m{\u001b[39;00mline\u001b[38;5;132;01m}\u001b[39;00m\u001b[38;5;124m\"\u001b[39m)\n",
      "File \u001b[0;32m~/Library/Python/3.10/lib/python/site-packages/IPython/core/interactiveshell.py:310\u001b[0m, in \u001b[0;36m_modified_open\u001b[0;34m(file, *args, **kwargs)\u001b[0m\n\u001b[1;32m    303\u001b[0m \u001b[38;5;28;01mif\u001b[39;00m file \u001b[38;5;129;01min\u001b[39;00m {\u001b[38;5;241m0\u001b[39m, \u001b[38;5;241m1\u001b[39m, \u001b[38;5;241m2\u001b[39m}:\n\u001b[1;32m    304\u001b[0m     \u001b[38;5;28;01mraise\u001b[39;00m \u001b[38;5;167;01mValueError\u001b[39;00m(\n\u001b[1;32m    305\u001b[0m         \u001b[38;5;124mf\u001b[39m\u001b[38;5;124m\"\u001b[39m\u001b[38;5;124mIPython won\u001b[39m\u001b[38;5;124m'\u001b[39m\u001b[38;5;124mt let you open fd=\u001b[39m\u001b[38;5;132;01m{\u001b[39;00mfile\u001b[38;5;132;01m}\u001b[39;00m\u001b[38;5;124m by default \u001b[39m\u001b[38;5;124m\"\u001b[39m\n\u001b[1;32m    306\u001b[0m         \u001b[38;5;124m\"\u001b[39m\u001b[38;5;124mas it is likely to crash IPython. If you know what you are doing, \u001b[39m\u001b[38;5;124m\"\u001b[39m\n\u001b[1;32m    307\u001b[0m         \u001b[38;5;124m\"\u001b[39m\u001b[38;5;124myou can use builtins\u001b[39m\u001b[38;5;124m'\u001b[39m\u001b[38;5;124m open.\u001b[39m\u001b[38;5;124m\"\u001b[39m\n\u001b[1;32m    308\u001b[0m     )\n\u001b[0;32m--> 310\u001b[0m \u001b[38;5;28;01mreturn\u001b[39;00m \u001b[43mio_open\u001b[49m\u001b[43m(\u001b[49m\u001b[43mfile\u001b[49m\u001b[43m,\u001b[49m\u001b[43m \u001b[49m\u001b[38;5;241;43m*\u001b[39;49m\u001b[43margs\u001b[49m\u001b[43m,\u001b[49m\u001b[43m \u001b[49m\u001b[38;5;241;43m*\u001b[39;49m\u001b[38;5;241;43m*\u001b[39;49m\u001b[43mkwargs\u001b[49m\u001b[43m)\u001b[49m\n",
      "\u001b[0;31mFileNotFoundError\u001b[0m: [Errno 2] No such file or directory: 'filgffhggyjccje.txt'"
     ]
    }
   ],
   "source": [
    "# • Find out what the program does if the file doesn’t exist.\n",
    "with open('filgffhggyjccje.txt', 'r') as f:\n",
    "    for i, line in enumerate(f):\n",
    "        print(f\"{i}: {line}\")"
   ]
  },
  {
   "cell_type": "code",
   "execution_count": null,
   "metadata": {},
   "outputs": [
    {
     "name": "stdout",
     "output_type": "stream",
     "text": [
      "content: what u see here is the content in the created file.\n"
     ]
    }
   ],
   "source": [
    "def create_file(file_path, content):\n",
    "    file = open(file_path, 'w')\n",
    "    file.write(content)\n",
    "    file.close()\n",
    "\n",
    "def read_file(file_path):\n",
    "    file = open(file_path, 'r')\n",
    "    content = file.read()\n",
    "    file.close()\n",
    "    print(f\"content:{content}\")\n",
    "\n",
    "if __name__ == \"__main__\":\n",
    "    create_file('example.txt', ' what u see here is the content in the created file.')\n",
    "    read_file('example.txt')\n"
   ]
  },
  {
   "cell_type": "markdown",
   "metadata": {},
   "source": [
    "Write file"
   ]
  },
  {
   "cell_type": "code",
   "execution_count": null,
   "metadata": {},
   "outputs": [
    {
     "name": "stdout",
     "output_type": "stream",
     "text": [
      "| 1 | 2 | 3 |\n",
      "| 4 | 5 | 6 |\n",
      "| 7 | 8 | 9 |\n",
      "\n",
      "\n",
      "\n",
      "\n",
      "John meets Marissa\n",
      "John meets Pete\n",
      "John meets Dayton\n",
      "Marissa meets John\n",
      "Marissa meets Pete\n",
      "Marissa meets Dayton\n",
      "Pete meets John\n",
      "Pete meets Marissa\n",
      "Pete meets Dayton\n",
      "Dayton meets John\n",
      "Dayton meets Marissa\n",
      "Dayton meets Pete\n"
     ]
    }
   ],
   "source": [
    "# • Given a tic-tac-toe board of 3x3, print every position\n",
    "board = [[\" \" for _ in range(3)] for _ in range(3)]\n",
    "for i in range(3):\n",
    "    for j in range(3):\n",
    "        board[i][j] = str(3*i + j + 1)      \n",
    "for i in range(3):\n",
    "    print(\"|\", end=\"\")\n",
    "    for j in range(3): \n",
    "        print(f\" {board[i][j]} |\", end=\"\")\n",
    "    print()\n",
    "\n",
    "# Create a program where every person meets the other persons = [ “John”, “Marissa”, “Pete”, “Dayton” ]\n",
    "people = [\"John\", \"Marissa\", \"Pete\", \"Dayton\"]\n",
    "print(\"\\n\\n\\n\")\n",
    "for i in range(len(people)):\n",
    "    for j in range(len(people)):\n",
    "        if i != j:\n",
    "            print(f\"{people[i]} meets {people[j]}\")\n",
    "\n",
    "# Nested loop runtime\n",
    "# If a normal loop takes O(n) steps, \n",
    "# then a nested loop takes O(n^2) steps.\n",
    "# This is because the inner loop repeats \n",
    "# the outer loop's steps n times, \n",
    "# so total steps is n * n.\n"
   ]
  },
  {
   "cell_type": "markdown",
   "metadata": {},
   "source": [
    "Slices"
   ]
  },
  {
   "cell_type": "code",
   "execution_count": null,
   "metadata": {},
   "outputs": [
    {
     "name": "stdout",
     "output_type": "stream",
     "text": [
      "Sliced Pizza List: ['Pepperoni', 'Fromaggi', 'Napolitana']\n",
      "World\n"
     ]
    }
   ],
   "source": [
    "# • Take a slice of the list below:\n",
    "pizzas = [\"Hawai\", \"Pepperoni\", \"Fromaggi\", \"Napolitana\", \"Diavoli\"]\n",
    "pizza_slice = pizzas[1:4] \n",
    "print(pizza_slice)\n",
    "\n",
    "# • Given the text “Hello World”, take the slice “World”\n",
    "text = \"Hello World\"\n",
    "world_slice = text[6:]\n",
    "print(world_slice)"
   ]
  },
  {
   "cell_type": "markdown",
   "metadata": {},
   "source": [
    "multiple returns"
   ]
  },
  {
   "cell_type": "code",
   "execution_count": null,
   "metadata": {},
   "outputs": [
    {
     "name": "stdout",
     "output_type": "stream",
     "text": [
      "sir\n",
      "yes\n",
      "SIRRRR\n"
     ]
    }
   ],
   "source": [
    "# • Create a function that returns a,b and a+b\n",
    "def func():\n",
    "    return \"sir\", \"yes\", \"SIRRRR\"\n",
    "\n",
    "result = func()\n",
    "print(result[0])\n",
    "print(result[1])\n",
    "print(result[2])"
   ]
  },
  {
   "cell_type": "code",
   "execution_count": null,
   "metadata": {},
   "outputs": [
    {
     "name": "stdout",
     "output_type": "stream",
     "text": [
      "Variable 1: 10\n",
      "Variable 2: Hello\n",
      "Variable 3: [1, 2, 3]\n",
      "Variable 4: True\n",
      "Variable 5: 3.14\n"
     ]
    }
   ],
   "source": [
    "# • Create a function that returns 5 variables\n",
    "def return_five_variables():\n",
    "    var1 = 17\n",
    "    var2 = \"Hello\"\n",
    "    var3 = [1, 2, 3]\n",
    "    var4 = True\n",
    "    var5 = 3.14\n",
    "    return var1, var2, var3, var4, var5\n",
    "\n",
    "var1, var2, var3, var4, var5 = return_five_variables()\n",
    "print(\"Variable 1:\", var1)\n",
    "print(\"Variable 2:\", var2)\n",
    "print(\"Variable 3:\", var3)\n",
    "print(\"Variable 4:\", var4)\n",
    "print(\"Variable 5:\", var5)"
   ]
  },
  {
   "cell_type": "markdown",
   "metadata": {},
   "source": [
    "Scope"
   ]
  },
  {
   "cell_type": "code",
   "execution_count": null,
   "metadata": {},
   "outputs": [],
   "source": [
    "# • Add a function reduce amount that changes the variable balance\n",
    "# • Create a function with a local variable\n",
    "balance = 100\n",
    "\n",
    "def reduce_amount():\n",
    "    amount = 50 \n",
    "    global balance\n",
    "    balance -= amount\n",
    "    \n",
    "reduce_amount()\n",
    "print(balance)"
   ]
  },
  {
   "cell_type": "markdown",
   "metadata": {},
   "source": [
    "Time and date"
   ]
  },
  {
   "cell_type": "code",
   "execution_count": null,
   "metadata": {},
   "outputs": [
    {
     "name": "stdout",
     "output_type": "stream",
     "text": [
      "2024-02-01\n"
     ]
    }
   ],
   "source": [
    "# • Print the date in format year-month-day\n",
    "from datetime import date\n",
    "print(date.today())\n"
   ]
  },
  {
   "cell_type": "markdown",
   "metadata": {},
   "source": [
    "Try except"
   ]
  },
  {
   "cell_type": "code",
   "execution_count": null,
   "metadata": {},
   "outputs": [
    {
     "name": "stdout",
     "output_type": "stream",
     "text": [
      "NUMBERRRRRR\n",
      "NUMBERRRRRR\n",
      "NUMBERRRRRR\n",
      "NUMBERRRRRR\n",
      "NUMBERRRRRR\n",
      "NUMBERRRRRR\n",
      "NUMBERRRRRR\n",
      "NUMBERRRRRR\n"
     ]
    },
    {
     "ename": "KeyboardInterrupt",
     "evalue": "Interrupted by user",
     "output_type": "error",
     "traceback": [
      "\u001b[0;31m---------------------------------------------------------------------------\u001b[0m",
      "\u001b[0;31mKeyboardInterrupt\u001b[0m                         Traceback (most recent call last)",
      "Cell \u001b[0;32mIn[63], line 4\u001b[0m\n\u001b[1;32m      2\u001b[0m \u001b[38;5;28;01mwhile\u001b[39;00m \u001b[38;5;28;01mTrue\u001b[39;00m:\n\u001b[1;32m      3\u001b[0m     \u001b[38;5;28;01mtry\u001b[39;00m:\n\u001b[0;32m----> 4\u001b[0m         user_input \u001b[38;5;241m=\u001b[39m \u001b[38;5;28mint\u001b[39m(\u001b[38;5;28;43minput\u001b[39;49m\u001b[43m(\u001b[49m\u001b[38;5;124;43m\"\u001b[39;49m\u001b[38;5;124;43mEnter a number: \u001b[39;49m\u001b[38;5;124;43m\"\u001b[39;49m\u001b[43m)\u001b[49m)\n\u001b[1;32m      5\u001b[0m         \u001b[38;5;28;01mbreak\u001b[39;00m\n\u001b[1;32m      6\u001b[0m     \u001b[38;5;28;01mexcept\u001b[39;00m \u001b[38;5;167;01mValueError\u001b[39;00m:\n",
      "File \u001b[0;32m~/Library/Python/3.10/lib/python/site-packages/ipykernel/kernelbase.py:1270\u001b[0m, in \u001b[0;36mKernel.raw_input\u001b[0;34m(self, prompt)\u001b[0m\n\u001b[1;32m   1268\u001b[0m     msg \u001b[38;5;241m=\u001b[39m \u001b[38;5;124m\"\u001b[39m\u001b[38;5;124mraw_input was called, but this frontend does not support input requests.\u001b[39m\u001b[38;5;124m\"\u001b[39m\n\u001b[1;32m   1269\u001b[0m     \u001b[38;5;28;01mraise\u001b[39;00m StdinNotImplementedError(msg)\n\u001b[0;32m-> 1270\u001b[0m \u001b[38;5;28;01mreturn\u001b[39;00m \u001b[38;5;28;43mself\u001b[39;49m\u001b[38;5;241;43m.\u001b[39;49m\u001b[43m_input_request\u001b[49m\u001b[43m(\u001b[49m\n\u001b[1;32m   1271\u001b[0m \u001b[43m    \u001b[49m\u001b[38;5;28;43mstr\u001b[39;49m\u001b[43m(\u001b[49m\u001b[43mprompt\u001b[49m\u001b[43m)\u001b[49m\u001b[43m,\u001b[49m\n\u001b[1;32m   1272\u001b[0m \u001b[43m    \u001b[49m\u001b[38;5;28;43mself\u001b[39;49m\u001b[38;5;241;43m.\u001b[39;49m\u001b[43m_parent_ident\u001b[49m\u001b[43m[\u001b[49m\u001b[38;5;124;43m\"\u001b[39;49m\u001b[38;5;124;43mshell\u001b[39;49m\u001b[38;5;124;43m\"\u001b[39;49m\u001b[43m]\u001b[49m\u001b[43m,\u001b[49m\n\u001b[1;32m   1273\u001b[0m \u001b[43m    \u001b[49m\u001b[38;5;28;43mself\u001b[39;49m\u001b[38;5;241;43m.\u001b[39;49m\u001b[43mget_parent\u001b[49m\u001b[43m(\u001b[49m\u001b[38;5;124;43m\"\u001b[39;49m\u001b[38;5;124;43mshell\u001b[39;49m\u001b[38;5;124;43m\"\u001b[39;49m\u001b[43m)\u001b[49m\u001b[43m,\u001b[49m\n\u001b[1;32m   1274\u001b[0m \u001b[43m    \u001b[49m\u001b[43mpassword\u001b[49m\u001b[38;5;241;43m=\u001b[39;49m\u001b[38;5;28;43;01mFalse\u001b[39;49;00m\u001b[43m,\u001b[49m\n\u001b[1;32m   1275\u001b[0m \u001b[43m\u001b[49m\u001b[43m)\u001b[49m\n",
      "File \u001b[0;32m~/Library/Python/3.10/lib/python/site-packages/ipykernel/kernelbase.py:1313\u001b[0m, in \u001b[0;36mKernel._input_request\u001b[0;34m(self, prompt, ident, parent, password)\u001b[0m\n\u001b[1;32m   1310\u001b[0m \u001b[38;5;28;01mexcept\u001b[39;00m \u001b[38;5;167;01mKeyboardInterrupt\u001b[39;00m:\n\u001b[1;32m   1311\u001b[0m     \u001b[38;5;66;03m# re-raise KeyboardInterrupt, to truncate traceback\u001b[39;00m\n\u001b[1;32m   1312\u001b[0m     msg \u001b[38;5;241m=\u001b[39m \u001b[38;5;124m\"\u001b[39m\u001b[38;5;124mInterrupted by user\u001b[39m\u001b[38;5;124m\"\u001b[39m\n\u001b[0;32m-> 1313\u001b[0m     \u001b[38;5;28;01mraise\u001b[39;00m \u001b[38;5;167;01mKeyboardInterrupt\u001b[39;00m(msg) \u001b[38;5;28;01mfrom\u001b[39;00m \u001b[38;5;28;01mNone\u001b[39;00m\n\u001b[1;32m   1314\u001b[0m \u001b[38;5;28;01mexcept\u001b[39;00m \u001b[38;5;167;01mException\u001b[39;00m:\n\u001b[1;32m   1315\u001b[0m     \u001b[38;5;28mself\u001b[39m\u001b[38;5;241m.\u001b[39mlog\u001b[38;5;241m.\u001b[39mwarning(\u001b[38;5;124m\"\u001b[39m\u001b[38;5;124mInvalid Message:\u001b[39m\u001b[38;5;124m\"\u001b[39m, exc_info\u001b[38;5;241m=\u001b[39m\u001b[38;5;28;01mTrue\u001b[39;00m)\n",
      "\u001b[0;31mKeyboardInterrupt\u001b[0m: Interrupted by user"
     ]
    }
   ],
   "source": [
    "# • Can try-except be used to catch invalid keyboard input?\n",
    "while True:\n",
    "    try:\n",
    "        user_input = int(input(\"Enter a number: \"))\n",
    "        break\n",
    "    except ValueError:\n",
    "        print(\"NUMBERRRRRR\")\n"
   ]
  },
  {
   "cell_type": "code",
   "execution_count": null,
   "metadata": {},
   "outputs": [],
   "source": [
    "# • Can try-except catch the error if a file can’t be opened?\n",
    "try:\n",
    "    with open(\"fewjkasifjgabwiuefqbwaeiugwquegf.txt\", \"r\") as file:\n",
    "        content = file.read()\n",
    "except FileNotFoundError:\n",
    "    print(\"not found\")\n",
    "    \n",
    "# • When would you not use try-except?\n",
    "# when the error doesn't interrupt the flow of the program"
   ]
  },
  {
   "cell_type": "markdown",
   "metadata": {},
   "source": [
    "Class"
   ]
  },
  {
   "cell_type": "code",
   "execution_count": null,
   "metadata": {},
   "outputs": [],
   "source": [
    "# • Can you have more than one class in a file?\n",
    "class MyClass1:\n",
    "    pass\n",
    "\n",
    "class MyClass2:\n",
    "    pass"
   ]
  },
  {
   "cell_type": "code",
   "execution_count": null,
   "metadata": {},
   "outputs": [],
   "source": [
    "# • Can multiple objects be created from the same class?\n",
    "class MyClass:\n",
    "    def __init__(self, name):\n",
    "        self.name = name\n",
    "\n",
    "obj1 = MyClass(\"Object 1\")\n",
    "obj2 = MyClass(\"Object 2\")"
   ]
  },
  {
   "cell_type": "code",
   "execution_count": null,
   "metadata": {},
   "outputs": [],
   "source": [
    "# • Can objects create classes?\n",
    "# No, objects don't create classes."
   ]
  },
  {
   "cell_type": "code",
   "execution_count": null,
   "metadata": {},
   "outputs": [],
   "source": [
    "# • Using the code above, create another object\n",
    "class MyClass:\n",
    "    def __init__(self, name):\n",
    "        self.name = name\n",
    "\n",
    "obj1 = MyClass(\"Object 1\")\n",
    "obj2 = MyClass(\"Object 2\")\n",
    "obj3 = MyClass(\"Object 3\")  "
   ]
  },
  {
   "cell_type": "code",
   "execution_count": null,
   "metadata": {},
   "outputs": [
    {
     "name": "stdout",
     "output_type": "stream",
     "text": [
      "4631630976\n"
     ]
    }
   ],
   "source": [
    "# • Add a method to the class: location()\n",
    "class MyClass:\n",
    "    def __init__(self, name):\n",
    "        self.name = name\n",
    "\n",
    "    def location(self):\n",
    "        print(f\"{id(self)}\")\n",
    "\n",
    "obj = MyClass(\"MyObject\")\n",
    "obj.location()"
   ]
  },
  {
   "cell_type": "markdown",
   "metadata": {},
   "source": [
    "Getter and setter"
   ]
  },
  {
   "cell_type": "code",
   "execution_count": null,
   "metadata": {},
   "outputs": [],
   "source": [
    "# • Add a variable age and create a getter and setter\n",
    "class Person:\n",
    "    def __init__(self, name, age):\n",
    "        self._age = age\n",
    "\n",
    "    @property\n",
    "    def age(self):\n",
    "        return self._age\n",
    "\n",
    "    @age.setter\n",
    "    def age(self, value):\n",
    "        self._age = value if value >= 0 else 0\n",
    "\n",
    "# • Why would you use getter and setter methods?\n",
    "# to meet OOP principles/standards"
   ]
  },
  {
   "cell_type": "markdown",
   "metadata": {},
   "source": [
    "Modules"
   ]
  },
  {
   "cell_type": "code",
   "execution_count": null,
   "metadata": {},
   "outputs": [
    {
     "name": "stdout",
     "output_type": "stream",
     "text": [
      "I AM A PYTHON\n"
     ]
    }
   ],
   "source": [
    "# Calling the sin function from the math module\n",
    "from math import sin, radians\n",
    "angle = 45 \n",
    "sin_value = sin(radians(angle))\n",
    "\n",
    "# Create your own module with the function snake():\n",
    "from mymodule import snake\n",
    "snake()"
   ]
  },
  {
   "cell_type": "markdown",
   "metadata": {},
   "source": [
    "Inheritance"
   ]
  },
  {
   "cell_type": "code",
   "execution_count": null,
   "metadata": {},
   "outputs": [
    {
     "name": "stdout",
     "output_type": "stream",
     "text": [
      "MyApp - Version 43.2.0\n"
     ]
    }
   ],
   "source": [
    "# Create a new class that inherits from the class App:\n",
    "class App:\n",
    "    def __init__(self, name):\n",
    "        self.name = name\n",
    "\n",
    "class NewApp(App):\n",
    "    def __init__(self, name, version):\n",
    "        super().__init__(name)\n",
    "        self.version = version\n",
    "\n",
    "new_app = NewApp(\"MyApp\", \"43.2.0\")\n",
    "print(f\"{new_app.name} - Version {new_app.version}\")\n"
   ]
  },
  {
   "cell_type": "code",
   "execution_count": null,
   "metadata": {},
   "outputs": [
    {
     "name": "stdout",
     "output_type": "stream",
     "text": [
      "A\n",
      "B\n",
      "C\n"
     ]
    }
   ],
   "source": [
    "# • Try to create a class that inherits from two super classes (multiple inheritance)\n",
    "class ClassA:\n",
    "    def A(self):\n",
    "        print(\"A\")\n",
    "\n",
    "class ClassB:\n",
    "    def B(self):\n",
    "        print(\"B\")\n",
    "\n",
    "class ClassC(ClassA, ClassB):\n",
    "    def C(self):\n",
    "        print(\"C\")\n",
    "\n",
    "obj_C = ClassC()\n",
    "obj_C.A()\n",
    "obj_C.B()\n",
    "obj_C.C()\n"
   ]
  },
  {
   "cell_type": "markdown",
   "metadata": {},
   "source": [
    "Static Method"
   ]
  },
  {
   "cell_type": "code",
   "execution_count": null,
   "metadata": {},
   "outputs": [
    {
     "name": "stdout",
     "output_type": "stream",
     "text": [
      "static method.\n"
     ]
    }
   ],
   "source": [
    "# • Can a method inside a class be called without creating an object?\n",
    "class MyClass:\n",
    "    @staticmethod\n",
    "    def static_method():\n",
    "        print(\"static method.\")\n",
    "\n",
    "MyClass.static_method()\n"
   ]
  },
  {
   "cell_type": "markdown",
   "metadata": {},
   "source": [
    "Iterable\n",
    "What is an iterable?\n",
    "    An iterable is an object allowing iteration over its elements\n",
    "\n",
    "Which types of data can be used with an iterable?\n",
    "    lists, tuples, strings, sets, dictionaries, generators, and iterators."
   ]
  },
  {
   "cell_type": "markdown",
   "metadata": {},
   "source": [
    "Classmethod"
   ]
  },
  {
   "cell_type": "code",
   "execution_count": null,
   "metadata": {},
   "outputs": [],
   "source": [
    "#     What is a classmethod?\n",
    "class MyClass:\n",
    "    @classmethod\n",
    "    def my_class_method(cls):\n",
    "        pass\n",
    "\n",
    "# How does a classmethod differ from a staticmethod?\n",
    "class MyClass:\n",
    "    @staticmethod\n",
    "    def my_static_method():\n",
    "        pass"
   ]
  },
  {
   "cell_type": "markdown",
   "metadata": {},
   "source": [
    "Multiple inheritance\n",
    "Do all programming languages support multiple inheritance? \n",
    "    -no java swift ruby dont\n",
    "Why would you not use multiple inheritance?\n",
    "    -it makes the code hard to read and understand\n",
    "• Is there a limit to the number of classes you can inherit from?\n",
    "    -No "
   ]
  }
 ],
 "metadata": {
  "kernelspec": {
   "display_name": "env",
   "language": "python",
   "name": "python3"
  },
  "language_info": {
   "codemirror_mode": {
    "name": "ipython",
    "version": 3
   },
   "file_extension": ".py",
   "mimetype": "text/x-python",
   "name": "python",
   "nbconvert_exporter": "python",
   "pygments_lexer": "ipython3",
   "version": "3.10.12"
  }
 },
 "nbformat": 4,
 "nbformat_minor": 2
}
