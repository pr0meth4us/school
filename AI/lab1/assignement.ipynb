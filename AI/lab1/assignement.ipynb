{
 "cells": [
  {
   "cell_type": "markdown",
   "metadata": {
    "slideshow": {
     "slide_type": "slide"
    }
   },
   "source": [
    "# Lab 1\n",
    "\n",
    "Inspired from Berkeley STAT 157\n",
    "\n",
    "To be submitted before 11 February 2025 on Canvas. s\n",
    "\n",
    "1. Write all code in the notebook.\n",
    "1. Write all text in the notebook. \n",
    "1. **Execute** the notebook and **save** the results.\n",
    "1. To be safe, print the notebook as PDF and add it to the repository, too. Your repository should contain two files: ``your_name.ipynb`` and ``your_name.pdf``. "
   ]
  },
  {
   "cell_type": "markdown",
   "metadata": {},
   "source": [
    "## 0. Installing new packages\n",
    "\n",
    "To install new package, simply type:\n",
    "\n",
    "`!pip install package_1_name package_2_name`\n",
    "\n",
    "Ex. `!pip install numpy scipy `"
   ]
  },
  {
   "cell_type": "markdown",
   "metadata": {},
   "source": [
    "## 1. Speedtest for vectorization\n",
    "\n",
    "Your goal is to measure the speed of linear algebra operations for different levels of vectorization. Using numpy to compute the following statements and record its compute time. \n",
    "\n",
    "1. Construct two matrices $A$ and $B$ with Gaussian random entries of size $4096 \\times 4096$. \n",
    "1. Compute $C = A B$ using matrix-matrix operations and report the time. \n",
    "1. Compute $C = A B$, treating $A$ as a matrix but computing the result for each column of $B$ one at a time. Report the time.\n",
    "1. Compute $C = A B$, treating $A$ and $B$ as collections of vectors. Report the time.\n"
   ]
  },
  {
   "cell_type": "code",
   "execution_count": 7,
   "metadata": {
    "ExecuteTime": {
     "end_time": "2024-02-05T09:45:57.537042892Z",
     "start_time": "2024-02-05T09:45:55.787832029Z"
    }
   },
   "outputs": [
    {
     "name": "stdout",
     "output_type": "stream",
     "text": [
      "generation time:  0.7756555080413818\n",
      "multiplication time: 0.9666411876678467\n"
     ]
    }
   ],
   "source": [
    "# 1. Construct two matrices $A$ and $B$ with Gaussian random entries of size $4096 \\times 4096$. \n",
    "\n",
    "import numpy as np\n",
    "import time\n",
    "mu, sigma = 0, 0.1 \n",
    "start_gen= time.time()\n",
    "A = np.random.normal(mu, sigma, size=(4096, 4096))\n",
    "B = np.random.normal(mu, sigma, size=(4096, 4096))\n",
    "end_gen= time.time()\n",
    "print(\"generation time: \", end_gen - start_gen)"
   ]
  },
  {
   "cell_type": "code",
   "outputs": [
    {
     "name": "stdout",
     "output_type": "stream",
     "text": [
      "multiplication time: 0.8772711753845215\n"
     ]
    }
   ],
   "source": [
    "# 1. Compute $C = A B$ using matrix-matrix operations and report the time. \n",
    "start = time.time()\n",
    "C = np.dot(A, B)\n",
    "end = time.time()\n",
    "print('multiplication time:', end - start)"
   ],
   "metadata": {
    "collapsed": false,
    "ExecuteTime": {
     "end_time": "2024-02-05T09:54:48.156993563Z",
     "start_time": "2024-02-05T09:54:47.314171190Z"
    }
   },
   "execution_count": 8
  },
  {
   "cell_type": "code",
   "outputs": [
    {
     "name": "stdout",
     "output_type": "stream",
     "text": [
      "Operation3 took:  -26.428006649017334\n"
     ]
    }
   ],
   "source": [
    "# 1. Compute $C = A B$, treating $A$ as a matrix but computing the result for each column of $B$ one at a time. Report the time.\n",
    "C = np.empty((4096, 4096))\n",
    "start_3 = time.time()\n",
    "for i in range(4096):\n",
    "    C[:, i] = np.dot(A, B[:, i])\n",
    "end_3 = time.time()\n",
    "\n",
    "print(f\"Operation3 took: \", end_3-start_3)"
   ],
   "metadata": {
    "collapsed": false,
    "ExecuteTime": {
     "end_time": "2024-02-05T09:58:59.136426651Z",
     "start_time": "2024-02-05T09:58:32.709049493Z"
    }
   },
   "execution_count": 10
  },
  {
   "cell_type": "code",
   "outputs": [],
   "source": [
    "# 1. Compute $C = A B$, treating $A$ and $B$ as collections of vectors. Report the time.\n",
    "C = np.empty((4096, 4096))\n",
    "start_4 = time.time()\n",
    "for i in range(4096):\n",
    "    for j in range(4096):\n",
    "        C[i,j] = np.dot(A[i, :], B[:, j])\n",
    "end_4 = time.time()\n",
    "print(\"Operation4 took: \",  end_4 - start_4, \" seconds\")"
   ],
   "metadata": {
    "collapsed": false,
    "is_executing": true,
    "ExecuteTime": {
     "start_time": "2024-02-05T10:04:40.748511619Z"
    }
   }
  },
  {
   "cell_type": "markdown",
   "metadata": {},
   "source": [
    "## 2. Pytorch on CPUs/GPUs\n",
    "\n",
    "1. Install GPU drivers (if needed)\n",
    "1. Install Pytorch on a GPU/CPU instance (https://pytorch.org/)\n",
    "1. Display `!nvidia-smi` (if running on GPU instance)\n",
    "1. Create a $2 \\times 2$ matrix on the GPU (if applicable) and print it. See https://pytorch.org/tutorials/beginner/basics/tensorqs_tutorial.html for details."
   ]
  },
  {
   "cell_type": "code",
   "execution_count": null,
   "metadata": {},
   "outputs": [],
   "source": []
  },
  {
   "cell_type": "markdown",
   "metadata": {},
   "source": [
    "## 3. Speedtest for vectorization\n",
    "\n",
    "1. Repeat #1 again using Pytorch"
   ]
  },
  {
   "cell_type": "markdown",
   "metadata": {},
   "source": [
    "## 4. Pytorch and NumPy (for Challengers)\n",
    "\n",
    "Your goal is to measure the speed penalty between Pytorch and Python when converting data between both. We are going to do this as follows:\n",
    "\n",
    "1. Create two Gaussian random matrices $A, B$ of size $4096 \\times 4096$ in NDArray. \n",
    "1. Compute a vector $\\mathbf{c} \\in \\mathbb{R}^{4096}$ where $c_i = \\|A B_{i\\cdot}\\|^2$ where $\\mathbf{c}$ is a **NumPy** vector.\n",
    "\n",
    "To see the difference in speed due to Python perform the following two experiments and measure the time:\n",
    "\n",
    "1. Compute $\\|A B_{i\\cdot}\\|^2$ one at a time and assign its outcome to $\\mathbf{c}_i$ directly.\n",
    "1. Use an intermediate storage vector $\\mathbf{d}$ in Pytorch Tensor for assignments and copy to NumPy at the end."
   ]
  },
  {
   "cell_type": "code",
   "execution_count": null,
   "metadata": {},
   "outputs": [],
   "source": []
  },
  {
   "cell_type": "markdown",
   "metadata": {},
   "source": [
    "## 5. Memory efficient computation (for Terminators)\n",
    "\n",
    "We want to compute $C \\leftarrow A \\cdot B + C$, where $A, B$ and $C$ are all matrices. Implement this in the most memory efficient manner. Pay attention to the following two things:\n",
    "\n",
    "1. Do not allocate new memory for the new value of $C$.\n",
    "1. Do not allocate new memory for intermediate results if possible."
   ]
  },
  {
   "cell_type": "code",
   "execution_count": null,
   "metadata": {},
   "outputs": [],
   "source": []
  },
  {
   "cell_type": "code",
   "execution_count": null,
   "metadata": {},
   "outputs": [],
   "source": []
  }
 ],
 "metadata": {
  "celltoolbar": "Slideshow",
  "kernelspec": {
   "display_name": "Python 3 (ipykernel)",
   "language": "python",
   "name": "python3"
  },
  "language_info": {
   "codemirror_mode": {
    "name": "ipython",
    "version": 3
   },
   "file_extension": ".py",
   "mimetype": "text/x-python",
   "name": "python",
   "nbconvert_exporter": "python",
   "pygments_lexer": "ipython3",
   "version": "3.8.10"
  }
 },
 "nbformat": 4,
 "nbformat_minor": 2
}
