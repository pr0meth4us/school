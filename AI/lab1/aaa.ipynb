{
 "cells": [
  {
   "cell_type": "markdown",
   "metadata": {
    "slideshow": {
     "slide_type": "slide"
    }
   },
   "source": [
    "# Lab 1\n",
    "\n",
    "Inspired from Berkeley STAT 157\n",
    "\n",
    "To be submitted before 11 February 2025 on Canvas. s\n",
    "\n",
    "1. Write all code in the notebook.\n",
    "1. Write all text in the notebook. \n",
    "1. **Execute** the notebook and **save** the results.\n",
    "1. To be safe, print the notebook as PDF and add it to the repository, too. Your repository should contain two files: ``your_name.ipynb`` and ``your_name.pdf``. "
   ]
  },
  {
   "cell_type": "markdown",
   "metadata": {},
   "source": [
    "## 0. Installing new packages\n",
    "\n",
    "To install new package, simply type:\n",
    "\n",
    "`!pip install package_1_name package_2_name`\n",
    "\n",
    "Ex. `!pip install numpy scipy `"
   ]
  },
  {
   "cell_type": "markdown",
   "metadata": {},
   "source": [
    "## 1. Speedtest for vectorization\n",
    "\n",
    "Your goal is to measure the speed of linear algebra operations for different levels of vectorization. Using numpy to compute the following statements and record its compute time. \n",
    "\n",
    "1. Construct two matrices $A$ and $B$ with Gaussian random entries of size $4096 \\times 4096$. \n",
    "1. Compute $C = A B$ using matrix-matrix operations and report the time. \n",
    "1. Compute $C = A B$, treating $A$ as a matrix but computing the result for each column of $B$ one at a time. Report the time.\n",
    "1. Compute $C = A B$, treating $A$ and $B$ as collections of vectors. Report the time.\n"
   ]
  },
  {
   "cell_type": "code",
   "outputs": [
    {
     "name": "stdout",
     "output_type": "stream",
     "text": [
      "generation time:  0.7470428943634033\n"
     ]
    }
   ],
   "source": [
    "# 1. Construct two matrices $A$ and $B$ with Gaussian random entries of size $4096 \\times 4096$. \n",
    "\n",
    "import numpy as np\n",
    "import time\n",
    "mu, sigma = 0, 0.1 \n",
    "start_gen= time.time()\n",
    "A = np.random.normal(mu, sigma, size=(4096, 4096))\n",
    "B = np.random.normal(mu, sigma, size=(4096, 4096))\n",
    "end_gen= time.time()\n",
    "print(\"generation time: \", end_gen - start_gen)"
   ],
   "metadata": {
    "collapsed": false,
    "ExecuteTime": {
     "end_time": "2024-02-05T14:57:55.375346Z",
     "start_time": "2024-02-05T14:57:54.280396Z"
    }
   },
   "execution_count": 1
  },
  {
   "cell_type": "code",
   "outputs": [
    {
     "name": "stdout",
     "output_type": "stream",
     "text": [
      "Operation 2 takes: 1.6837811470031738  seconds\n"
     ]
    }
   ],
   "source": [
    "# 1. Compute $C = A B$ using matrix-matrix operations and report the time. \n",
    "start2 = time.time()\n",
    "C = np.dot(A, B)\n",
    "end2 = time.time()\n",
    "print('Operation 2 takes:', end2 - start2, \" seconds\" )"
   ],
   "metadata": {
    "collapsed": false,
    "ExecuteTime": {
     "end_time": "2024-02-05T14:58:00.078355Z",
     "start_time": "2024-02-05T14:57:58.435462Z"
    }
   },
   "execution_count": 2
  },
  {
   "cell_type": "code",
   "execution_count": 3,
   "metadata": {
    "collapsed": false,
    "ExecuteTime": {
     "end_time": "2024-02-05T15:00:30.304898Z",
     "start_time": "2024-02-05T14:58:01.823698Z"
    }
   },
   "outputs": [
    {
     "name": "stdout",
     "output_type": "stream",
     "text": [
      "Operation 3 takes:  148.47466921806335 seconds\n"
     ]
    }
   ],
   "source": [
    "# 2. Compute $C = A B$, treating $A$ as a matrix but computing the result for each column of $B$ one at a time. Report the time.\n",
    "C = np.empty((4096, 4096))\n",
    "start_3 = time.time()\n",
    "for i in range(4096):\n",
    "    C[:, i] = np.dot(A, B[:, i])\n",
    "end_3 = time.time()\n",
    "\n",
    "print(f\"Operation 3 takes: \", end_3-start_3, \"seconds\")"
   ]
  },
  {
   "cell_type": "code",
   "execution_count": 4,
   "metadata": {
    "collapsed": false,
    "ExecuteTime": {
     "end_time": "2024-02-05T15:05:13.971349Z",
     "start_time": "2024-02-05T15:00:30.321514Z"
    }
   },
   "outputs": [
    {
     "name": "stdout",
     "output_type": "stream",
     "text": [
      "Operation4 took:  283.64353370666504  seconds\n"
     ]
    }
   ],
   "source": [
    "# 1. Compute $C = A B$, treating $A$ and $B$ as collections of vectors. Report the time.\n",
    "C = np.empty((4096, 4096))\n",
    "start_4 = time.time()\n",
    "for i in range(4096):\n",
    "    for j in range(4096):\n",
    "        C[i,j] = np.dot(A[i, :], B[:, j])\n",
    "end_4 = time.time()\n",
    "print(\"Operation4 took: \",  end_4 - start_4, \" seconds\")"
   ]
  },
  {
   "cell_type": "markdown",
   "metadata": {},
   "source": [
    "## 2. Pytorch on CPUs/GPUs\n",
    "\n",
    "1. Install GPU drivers (if needed)\n",
    "1. Install Pytorch on a GPU/CPU instance (https://pytorch.org/)\n",
    "1. Display `!nvidia-smi` (if running on GPU instance)\n",
    "1. Create a $2 \\times 2$ matrix on the GPU (if applicable) and print it. See https://pytorch.org/tutorials/beginner/basics/tensorqs_tutorial.html for details."
   ]
  },
  {
   "cell_type": "code",
   "execution_count": 6,
   "metadata": {
    "ExecuteTime": {
     "end_time": "2024-02-05T15:09:19.835196Z",
     "start_time": "2024-02-05T15:09:18.664137Z"
    }
   },
   "outputs": [
    {
     "name": "stdout",
     "output_type": "stream",
     "text": [
      "tensor([[1, 2],\n",
      "        [3, 4]])\n"
     ]
    }
   ],
   "source": [
    "import torch\n",
    "data = [[1, 2],[3, 4]]\n",
    "A = torch.tensor(data)\n",
    "print(A)"
   ]
  },
  {
   "cell_type": "markdown",
   "metadata": {},
   "source": [
    "## 3. Speedtest for vectorization\n",
    "\n",
    "1. Repeat #1 again using Pytorch"
   ]
  },
  {
   "cell_type": "markdown",
   "metadata": {},
   "source": [
    "## 4. Pytorch and NumPy (for Challengers)\n",
    "\n",
    "Your goal is to measure the speed penalty between Pytorch and Python when converting data between both. We are going to do this as follows:\n",
    "\n",
    "1. Create two Gaussian random matrices $A, B$ of size $4096 \\times 4096$ in NDArray. \n",
    "1. Compute a vector $\\mathbf{c} \\in \\mathbb{R}^{4096}$ where $c_i = \\|A B_{i\\cdot}\\|^2$ where $\\mathbf{c}$ is a **NumPy** vector.\n",
    "\n",
    "To see the difference in speed due to Python perform the following two experiments and measure the time:\n",
    "\n",
    "1. Compute $\\|A B_{i\\cdot}\\|^2$ one at a time and assign its outcome to $\\mathbf{c}_i$ directly.\n",
    "1. Use an intermediate storage vector $\\mathbf{d}$ in Pytorch Tensor for assignments and copy to NumPy at the end."
   ]
  },
  {
   "cell_type": "code",
   "execution_count": 7,
   "metadata": {
    "ExecuteTime": {
     "end_time": "2024-02-05T15:09:24.067319Z",
     "start_time": "2024-02-05T15:09:23.631266Z"
    }
   },
   "outputs": [],
   "source": [
    "A2 = torch.randn(4096, 4096)\n",
    "B2 = torch.randn(4096, 4096)"
   ]
  },
  {
   "cell_type": "markdown",
   "metadata": {},
   "source": []
  },
  {
   "cell_type": "markdown",
   "metadata": {},
   "source": [
    "## 5. Memory efficient computation (for Terminators)\n",
    "\n",
    "We want to compute $C \\leftarrow A \\cdot B + C$, where $A, B$ and $C$ are all matrices. Implement this in the most memory efficient manner. Pay attention to the following two things:\n",
    "\n",
    "1. Do not allocate new memory for the new value of $C$.\n",
    "1. Do not allocate new memory for intermediate results if possible."
   ]
  },
  {
   "cell_type": "code",
   "execution_count": 12,
   "metadata": {
    "ExecuteTime": {
     "end_time": "2024-02-05T15:17:23.844157Z",
     "start_time": "2024-02-05T15:17:23.618972Z"
    }
   },
   "outputs": [
    {
     "name": "stdout",
     "output_type": "stream",
     "text": [
      "Operation 1 takes  0.2222909927368164  seconds\n"
     ]
    }
   ],
   "source": [
    "# 1. Compute $C = A B$ using matrix-matrix operations and report the time. \n",
    "\n",
    "start1 = time.time()\n",
    "\n",
    "C2 = torch.matmul(A2,B2)\n",
    "\n",
    "end1 = time.time()\n",
    "\n",
    "print(\"Operation 1 takes \", end1 - start1, \" seconds\" )"
   ]
  },
  {
   "cell_type": "code",
   "execution_count": 11,
   "metadata": {
    "ExecuteTime": {
     "end_time": "2024-02-05T15:17:20.905876Z",
     "start_time": "2024-02-05T15:17:09.118865Z"
    }
   },
   "outputs": [
    {
     "name": "stdout",
     "output_type": "stream",
     "text": [
      "Operation 2 takes 11.775741815567017  seconds\n"
     ]
    }
   ],
   "source": [
    "# 1. Compute $C = A B$, treating $A$ as a matrix but computing the result for each column of $B$ one at a time. Report the time.\n",
    "\n",
    "C2 = torch.empty((4096, 4096))\n",
    "\n",
    "start2 = time.time()\n",
    "\n",
    "for i in range(4096):\n",
    "    C2[:, i] = torch.matmul(A2, B2[:, i])\n",
    "    \n",
    "end2 = time.time()\n",
    "\n",
    "print(\"Operation 2 takes\", end2 - start2, \" seconds\" )"
   ]
  },
  {
   "cell_type": "code",
   "outputs": [
    {
     "name": "stdout",
     "output_type": "stream",
     "text": [
      "Operation 3 takes  405.87233304977417  seconds\n"
     ]
    }
   ],
   "source": [
    "# 1. Compute $C = A B$, treating $A$ and $B$ as collections of vectors. Report the time.\n",
    "\n",
    "C2 = torch.empty((4096, 4096))\n",
    "start3 = time.time()\n",
    "\n",
    "for i in range(4096):\n",
    "    for j in range(4096):\n",
    "        C2[i, j] = torch.matmul(A2[i, :], B2[:, j])\n",
    "        \n",
    "end3 = time.time()\n",
    "print(\"Operation 3 takes \",end3 -start3, \" seconds\" )"
   ],
   "metadata": {
    "collapsed": false,
    "ExecuteTime": {
     "end_time": "2024-02-05T15:39:37.818305Z",
     "start_time": "2024-02-05T15:32:51.926978Z"
    }
   },
   "execution_count": 13
  }
 ],
 "metadata": {
  "celltoolbar": "Slideshow",
  "kernelspec": {
   "display_name": "Python 3 (ipykernel)",
   "language": "python",
   "name": "python3"
  },
  "language_info": {
   "codemirror_mode": {
    "name": "ipython",
    "version": 3
   },
   "file_extension": ".py",
   "mimetype": "text/x-python",
   "name": "python",
   "nbconvert_exporter": "python",
   "pygments_lexer": "ipython3",
   "version": "3.9.6"
  }
 },
 "nbformat": 4,
 "nbformat_minor": 2
}
