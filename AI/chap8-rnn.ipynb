{
 "cells": [
  {
   "cell_type": "code",
   "metadata": {
    "jupyter": {
     "is_executing": true
    }
   },
   "source": [
    "import matplotlib.pyplot as plt\n",
    "%matplotlib inline\n",
    "import numpy as np\n",
    "plt.rcParams[\"figure.dpi\"] = 160\n",
    "\n",
    "def remove_frame():\n",
    "    for spine in plt.gca().spines.values():\n",
    "        spine.set_visible(False)"
   ],
   "outputs": [],
   "execution_count": null
  },
  {
   "cell_type": "code",
   "metadata": {
    "jupyter": {
     "is_executing": true
    }
   },
   "source": [
    "import torch\n",
    "import torch.nn as nn\n",
    "import torch.nn.functional as F\n",
    "import torch.optim as optim\n",
    "\n",
    "torch.manual_seed(1)"
   ],
   "outputs": [],
   "execution_count": null
  },
  {
   "cell_type": "markdown",
   "metadata": {},
   "source": [
    "# Prepare data"
   ]
  },
  {
   "cell_type": "code",
   "metadata": {
    "jupyter": {
     "is_executing": true
    }
   },
   "source": [
    "n_samples = 10000\n",
    "n_symbols = 5\n",
    "max_length = 10\n",
    "\n",
    "X = []\n",
    "X_binary = []\n",
    "y = []\n",
    "\n",
    "for i in range(n_samples):\n",
    "    x_i = np.random.randint(n_symbols, size=np.random.randint(max_length) + 1)\n",
    "    len_i = len(x_i)\n",
    "    \n",
    "    if np.random.rand() < 0.5:\n",
    "        if len_i % 2 == 0:\n",
    "            x_i[:len_i//2] = x_i[len_i//2:][::-1]\n",
    "        else:\n",
    "            x_i[:len_i//2] = x_i[len_i//2+1:][::-1]\n",
    "        y.append(1)\n",
    "    else:\n",
    "        if len_i % 2 == 0:\n",
    "            if np.all(x_i[:len_i//2] == x_i[len_i//2:][::-1]):\n",
    "                y.append(1)\n",
    "            else:\n",
    "                y.append(0)\n",
    "        else:\n",
    "            if np.all(x_i[:len_i//2] == x_i[len_i//2+1:][::-1]):\n",
    "                y.append(1)\n",
    "            else:\n",
    "                y.append(0)\n",
    "\n",
    "    X.append(x_i) \n",
    "            \n",
    "for x_i in X:\n",
    "    b = np.zeros((len(x_i), n_symbols))\n",
    "    for j, x_ij in enumerate(x_i):\n",
    "        b[j, x_ij] = 1\n",
    "    X_binary.append(b)"
   ],
   "outputs": [],
   "execution_count": null
  },
  {
   "cell_type": "code",
   "metadata": {
    "scrolled": false,
    "jupyter": {
     "is_executing": true
    }
   },
   "source": [
    "print(X[:10])\n",
    "print(y[:10])\n"
   ],
   "outputs": [],
   "execution_count": null
  },
  {
   "cell_type": "code",
   "metadata": {
    "jupyter": {
     "is_executing": true
    }
   },
   "source": [
    "from sklearn.model_selection import train_test_split\n",
    "indices = np.array(range(len(X_binary)))\n",
    "train, test = train_test_split(indices)"
   ],
   "outputs": [],
   "execution_count": null
  },
  {
   "cell_type": "markdown",
   "metadata": {},
   "source": [
    "# RNN"
   ]
  },
  {
   "cell_type": "code",
   "metadata": {
    "jupyter": {
     "is_executing": true
    }
   },
   "source": [
    "class Elman(nn.Module):\n",
    "    def __init__(self, num_features, num_hidden, num_layers=1):\n",
    "        super(Elman, self).__init__()\n",
    "        self.rnn = nn.RNN(num_features, num_hidden, num_layers=num_layers, batch_first=True)\n",
    "        self.fc = nn.Linear(num_hidden, 1)\n",
    "    \n",
    "    def forward(self, x):\n",
    "        out, hn = self.rnn(x)\n",
    "        if self.rnn.num_layers > 1:\n",
    "            hn = hn[-1, :]\n",
    "        out = self.fc(hn)\n",
    "        return out.view(-1, 1).sigmoid()\n",
    "    \n",
    "class LSTM(nn.Module):\n",
    "    def __init__(self, num_features, num_hidden, num_layers=1):\n",
    "        super(LSTM, self).__init__()\n",
    "        self.rnn = nn.LSTM(num_features, num_hidden, num_layers=num_layers, batch_first=True)\n",
    "        self.fc = nn.Linear(num_hidden, 1)\n",
    "    \n",
    "    def forward(self, x):\n",
    "        out, (hn, cn) = self.rnn(x)\n",
    "        out = self.fc(hn)\n",
    "        return out.view(-1, 1).sigmoid()\n",
    "    \n",
    "class GRU(nn.Module):\n",
    "    def __init__(self, num_features, num_hidden, num_layers=1):\n",
    "        super(GRU, self).__init__()\n",
    "        self.rnn = nn.GRU(num_features, num_hidden, num_layers=num_layers, batch_first=True)\n",
    "        self.fc = nn.Linear(num_hidden, 1)\n",
    "    \n",
    "    def forward(self, x):\n",
    "        out, hn = self.rnn(x)\n",
    "        out = self.fc(hn)\n",
    "        return out.view(-1, 1).sigmoid()\n",
    "    \n",
    "class BiGRU(nn.Module):\n",
    "    def __init__(self, num_features, num_hidden, num_layers=1):\n",
    "        super(BiGRU, self).__init__()\n",
    "        self.rnn = nn.GRU(num_features, num_hidden, num_layers=num_layers, batch_first=True, bidirectional=True)\n",
    "        self.fc = nn.Linear(2*num_hidden, 1)\n",
    "        \n",
    "        self.num_hidden = num_hidden\n",
    "    \n",
    "    def forward(self, x):\n",
    "        out, hn = self.rnn(x)\n",
    "\n",
    "        if self.rnn.num_layers > 1:\n",
    "            hn = hn[-2:, :]\n",
    "        \n",
    "        out = self.fc(hn.view(-1, 2*self.num_hidden))\n",
    "        return out.view(-1, 1).sigmoid()"
   ],
   "outputs": [],
   "execution_count": null
  },
  {
   "cell_type": "code",
   "metadata": {
    "jupyter": {
     "is_executing": true
    }
   },
   "source": [
    "test_curves = {}\n",
    "models = {}"
   ],
   "outputs": [],
   "execution_count": null
  },
  {
   "cell_type": "code",
   "metadata": {
    "jupyter": {
     "is_executing": true
    }
   },
   "source": [
    "for model, name in [(Elman(n_symbols, 10), \"elman\"),\n",
    "                    (Elman(n_symbols, 10, num_layers=2), \"elman-stacked\"),\n",
    "                    (LSTM(n_symbols, 10), \"lstm\"),\n",
    "                    (GRU(n_symbols, 10), \"gru\"),]:\n",
    "    \n",
    "    models[name] = model\n",
    "    criterion = nn.BCELoss()  \n",
    "    optimizer = torch.optim.Adam(model.parameters(), amsgrad=True)  \n",
    "\n",
    "    num_epochs = 25 \n",
    "    test_loss = []\n",
    "\n",
    "    l = 0\n",
    "    for i in test:\n",
    "        x_i = torch.Tensor(X_binary[i:i+1])\n",
    "        y_i = torch.Tensor(y[i:i+1]).reshape((-1, 1))\n",
    "        \n",
    "        outputs = model(x_i)\n",
    "        loss = criterion(outputs, y_i)\n",
    "        l += loss       \n",
    "\n",
    "    print('Epoch: [%d/%d], Step: Loss: %.4f' \n",
    "          % (0, num_epochs, l / len(test)))\n",
    "    test_loss.append(l / len(test))\n",
    "\n",
    "    for epoch in range(num_epochs):\n",
    "        for i in train:       \n",
    "            optimizer.zero_grad()\n",
    "\n",
    "            x_i = torch.Tensor(X_binary[i:i+1])\n",
    "            y_i = torch.Tensor(y[i:i+1]).reshape((-1, 1))\n",
    "            outputs = model(x_i)\n",
    "            loss = criterion(outputs, y_i)\n",
    "            loss.backward()\n",
    "\n",
    "            optimizer.step()\n",
    "\n",
    "        l = 0\n",
    "        for i in test:\n",
    "            x_i = torch.Tensor(X_binary[i:i+1])\n",
    "            y_i = torch.Tensor(y[i:i+1]).reshape((-1, 1))\n",
    "            outputs = model(x_i)\n",
    "            loss = criterion(outputs, y_i)\n",
    "            l += loss       \n",
    "\n",
    "        print('Epoch: [%d/%d], Step: Loss: %.4f' \n",
    "              % (epoch, num_epochs, l / len(test)))\n",
    "        test_loss.append(l / len(test))\n",
    "        \n",
    "    test_curves[name] = np.array([v.detach().numpy() for v in test_loss])"
   ],
   "outputs": [],
   "execution_count": null
  },
  {
   "cell_type": "code",
   "metadata": {
    "jupyter": {
     "is_executing": true
    }
   },
   "source": [
    "test_curves"
   ],
   "outputs": [],
   "execution_count": null
  },
  {
   "cell_type": "markdown",
   "metadata": {},
   "source": [
    "# Plots"
   ]
  },
  {
   "cell_type": "code",
   "metadata": {
    "jupyter": {
     "is_executing": true
    }
   },
   "source": [
    "plt.plot(range(num_epochs+1), test_curves[\"elman\"], c=\"r\", label=\"Elman\")\n",
    "plt.plot(range(num_epochs+1), test_curves[\"elman-stacked\"], \"r--\", label=\"Elman 2-layer\")\n",
    "plt.plot(range(num_epochs+1), test_curves[\"lstm\"], c=\"b\", label=\"LSTM\")\n",
    "plt.plot(range(num_epochs+1), test_curves[\"gru\"], c=\"g\", label=\"GRU\")\n",
    "plt.ylim(0,0.75)\n",
    "plt.grid()\n",
    "plt.legend()\n",
    "remove_frame()\n",
    "plt.savefig(\"palindrome-1.png\")\n",
    "plt.show()"
   ],
   "outputs": [],
   "execution_count": null
  },
  {
   "cell_type": "code",
   "metadata": {
    "jupyter": {
     "is_executing": true
    }
   },
   "source": [
    "X_test = []\n",
    "y_test = []\n",
    "\n",
    "for i in range(25000):\n",
    "    x_i = np.random.randint(n_symbols, size=np.random.randint(2*max_length) + 1)\n",
    "    len_i = len(x_i)\n",
    "    \n",
    "    if np.random.rand() < 0.5:\n",
    "        if len_i % 2 == 0:\n",
    "            x_i[:len_i//2] = x_i[len_i//2:][::-1]\n",
    "        else:\n",
    "            x_i[:len_i//2] = x_i[len_i//2+1:][::-1]\n",
    "        y_test.append(1)\n",
    "    else:\n",
    "        if len_i % 2 == 0:\n",
    "            if np.all(x_i[:len_i//2] == x_i[len_i//2:][::-1]):\n",
    "                y_test.append(1)\n",
    "            else:\n",
    "                y_test.append(0)\n",
    "        else:\n",
    "            if np.all(x_i[:len_i//2] == x_i[len_i//2+1:][::-1]):\n",
    "                y_test.append(1)\n",
    "            else:\n",
    "                y_test.append(0)\n",
    "\n",
    "    X_test.append(x_i) "
   ],
   "outputs": [],
   "execution_count": null
  },
  {
   "cell_type": "code",
   "metadata": {
    "jupyter": {
     "is_executing": true
    }
   },
   "source": [
    "X_binary_test = []\n",
    "\n",
    "for x_i in X_test:\n",
    "    b = np.zeros((len(x_i), n_symbols))\n",
    "    for j, x_ij in enumerate(x_i):\n",
    "        b[j, x_ij] = 1\n",
    "    X_binary_test.append(b)"
   ],
   "outputs": [],
   "execution_count": null
  },
  {
   "cell_type": "code",
   "metadata": {
    "jupyter": {
     "is_executing": true
    }
   },
   "source": [
    "model = models[\"elman\"]\n",
    "l = np.zeros(2*max_length)\n",
    "counters = np.zeros(2*max_length)\n",
    "\n",
    "for i in range(len(X_test)):\n",
    "    x_i = torch.Tensor(X_binary_test[i:i+1])\n",
    "    y_i = torch.Tensor(y_test[i:i+1]).reshape((-1, 1))\n",
    "    outputs = model(x_i)\n",
    "    loss = criterion(outputs, y_i)\n",
    "    l[len(x_i[0])-1] += loss   \n",
    "    counters[len(x_i[0])-1] += 1\n",
    "    \n",
    "plt.plot(range(1,2*max_length+1),l/counters, color=\"r\", marker=\"o\", label=\"Elman\")\n",
    "\n",
    "model = models[\"elman-stacked\"]\n",
    "l = np.zeros(2*max_length)\n",
    "counters = np.zeros(2*max_length)\n",
    "\n",
    "for i in range(len(X_test)):\n",
    "    x_i = torch.Tensor(X_binary_test[i:i+1])\n",
    "    y_i = torch.Tensor(y_test[i:i+1]).reshape((-1, 1))\n",
    "    outputs = model(x_i)\n",
    "    loss = criterion(outputs, y_i)\n",
    "    l[len(x_i[0])-1] += loss   \n",
    "    counters[len(x_i[0])-1] += 1\n",
    "    \n",
    "plt.plot(range(1,2*max_length+1),l/counters, \"r--\", marker=\"o\", label=\"Elman 2-layer\")\n",
    "\n",
    "model = models[\"lstm\"]\n",
    "l = np.zeros(2*max_length)\n",
    "counters = np.zeros(2*max_length)\n",
    "\n",
    "for i in range(len(X_test)):\n",
    "    x_i = torch.Tensor(X_binary_test[i:i+1])\n",
    "    y_i = torch.Tensor(y_test[i:i+1]).reshape((-1, 1))\n",
    "    outputs = model(x_i)\n",
    "    loss = criterion(outputs, y_i)\n",
    "    l[len(x_i[0])-1] += loss   \n",
    "    counters[len(x_i[0])-1] += 1\n",
    "    \n",
    "plt.plot(range(1,2*max_length+1),l/counters, color=\"b\", marker=\"o\", label=\"LSTM\")\n",
    "\n",
    "model = models[\"gru\"]\n",
    "l = np.zeros(2*max_length)\n",
    "counters = np.zeros(2*max_length)\n",
    "\n",
    "for i in range(len(X_test)):\n",
    "    x_i = torch.Tensor(X_binary_test[i:i+1])\n",
    "    y_i = torch.Tensor(y_test[i:i+1]).reshape((-1, 1))\n",
    "    outputs = model(x_i)\n",
    "    loss = criterion(outputs, y_i)\n",
    "    l[len(x_i[0])-1] += loss   \n",
    "    counters[len(x_i[0])-1] += 1\n",
    "    \n",
    "plt.plot(range(1,2*max_length+1),l/counters, color=\"g\", marker=\"o\", label=\"GRU\")\n",
    "\n",
    "plt.legend()\n",
    "plt.ylim(0,0.75)\n",
    "plt.grid()\n",
    "remove_frame()\n",
    "plt.savefig(\"length-4.png\")\n",
    "plt.show()"
   ],
   "outputs": [],
   "execution_count": null
  }
 ],
 "metadata": {
  "kernelspec": {
   "display_name": "Python 3 (ipykernel)",
   "language": "python",
   "name": "python3"
  },
  "language_info": {
   "codemirror_mode": {
    "name": "ipython",
    "version": 3
   },
   "file_extension": ".py",
   "mimetype": "text/x-python",
   "name": "python",
   "nbconvert_exporter": "python",
   "pygments_lexer": "ipython3",
   "version": "3.8.10"
  }
 },
 "nbformat": 4,
 "nbformat_minor": 2
}
